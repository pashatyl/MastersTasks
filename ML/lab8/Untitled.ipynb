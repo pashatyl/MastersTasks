{
 "cells": [
  {
   "cell_type": "markdown",
   "metadata": {},
   "source": [
    "## Лабораторная работа №8\n",
    "### Тылецкого Павла"
   ]
  },
  {
   "cell_type": "code",
   "execution_count": 10,
   "metadata": {},
   "outputs": [],
   "source": [
    "import numpy as np\n",
    "import pandas as pd\n",
    "from scipy.spatial import distance\n",
    "\n",
    "\n",
    "def split_dataset(df, n):\n",
    "    train_df = df.sample(frac=n)\n",
    "    test_df = df.loc[~df.index.isin(train_df.index)]\n",
    "    return train_df[[0, 1, 2, 3]].values, train_df[4].values, \\\n",
    "           test_df[[0, 1, 2, 3]].values, test_df[4].values\n",
    "\n",
    "\n",
    "def knn_predict(x, y, object, k, dist_alg=distance.cosine):\n",
    "    dists = []\n",
    "    for vect in x:\n",
    "        dist = dist_alg(vect, object)\n",
    "        dists.append(dist)\n",
    "    dists = np.array(dists)\n",
    "    top_k_inds = np.argsort(dists)[k]\n",
    "    top_k_classes = y[top_k_inds]\n",
    "    return np.unique(top_k_classes)[-1]\n",
    "\n",
    "\n",
    "def test_model(df, n, k, dist_alg):\n",
    "    sum = 0\n",
    "    for _ in range(5):\n",
    "        x, y, X, Y = split_dataset(df, n)\n",
    "        acc = 0\n",
    "        for elem in zip(X, Y):\n",
    "            if knn_predict(x, y, elem[0], k, dist_alg) == elem[1]:\n",
    "                acc += 1\n",
    "        sum += acc / len(X)\n",
    "    print('Accuracy =', sum / 5)"
   ]
  },
  {
   "cell_type": "markdown",
   "metadata": {},
   "source": [
    "Перебирать будем следующие параметры: К и алгоритм поиска расстояния:"
   ]
  },
  {
   "cell_type": "code",
   "execution_count": 11,
   "metadata": {},
   "outputs": [
    {
     "name": "stdout",
     "output_type": "stream",
     "text": [
      "Accuracy = 0.9600000000000002\n"
     ]
    }
   ],
   "source": [
    "df = pd.read_csv('iris.data.csv', header=None)\n",
    "acc = test_model(df, n=0.7, k=5, dist_alg=distance.sqeuclidean)"
   ]
  },
  {
   "cell_type": "code",
   "execution_count": 12,
   "metadata": {},
   "outputs": [
    {
     "name": "stdout",
     "output_type": "stream",
     "text": [
      "Accuracy = 0.9377777777777776\n"
     ]
    }
   ],
   "source": [
    "df = pd.read_csv('iris.data.csv', header=None)\n",
    "acc = test_model(df, n=0.7, k=5, dist_alg=distance.euclidean)"
   ]
  },
  {
   "cell_type": "code",
   "execution_count": 16,
   "metadata": {},
   "outputs": [
    {
     "name": "stdout",
     "output_type": "stream",
     "text": [
      "Accuracy = 0.9644444444444445\n"
     ]
    }
   ],
   "source": [
    "df = pd.read_csv('iris.data.csv', header=None)\n",
    "acc = test_model(df, n=0.7, k=1, dist_alg=distance.cosine)"
   ]
  },
  {
   "cell_type": "code",
   "execution_count": 13,
   "metadata": {},
   "outputs": [
    {
     "name": "stdout",
     "output_type": "stream",
     "text": [
      "Accuracy = 0.9288888888888888\n"
     ]
    }
   ],
   "source": [
    "df = pd.read_csv('iris.data.csv', header=None)\n",
    "acc = test_model(df, n=0.7, k=5, dist_alg=distance.cosine)"
   ]
  },
  {
   "cell_type": "code",
   "execution_count": 14,
   "metadata": {},
   "outputs": [
    {
     "name": "stdout",
     "output_type": "stream",
     "text": [
      "Accuracy = 0.9199999999999999\n"
     ]
    }
   ],
   "source": [
    "df = pd.read_csv('iris.data.csv', header=None)\n",
    "acc = test_model(df, n=0.7, k=10, dist_alg=distance.cosine)"
   ]
  },
  {
   "cell_type": "code",
   "execution_count": 15,
   "metadata": {},
   "outputs": [
    {
     "name": "stdout",
     "output_type": "stream",
     "text": [
      "Accuracy = 0.6755555555555557\n"
     ]
    }
   ],
   "source": [
    "df = pd.read_csv('iris.data.csv', header=None)\n",
    "acc = test_model(df, n=0.7, k=30, dist_alg=distance.cosine)"
   ]
  },
  {
   "cell_type": "markdown",
   "metadata": {},
   "source": [
    "Очевидные выводы: повышение степени расстояния улучшает точность классификации; излишнее увеличение К приводитк понижению точности(может захватывать числа из другого класса, так как \"своих\" оказывается недостаточно), а на данной выборке выбор одного ближайшего соседа и вовсе оказывается наиболее выигрышным)"
   ]
  }
 ],
 "metadata": {
  "kernelspec": {
   "display_name": "Python 3",
   "language": "python",
   "name": "python3"
  },
  "language_info": {
   "codemirror_mode": {
    "name": "ipython",
    "version": 3
   },
   "file_extension": ".py",
   "mimetype": "text/x-python",
   "name": "python",
   "nbconvert_exporter": "python",
   "pygments_lexer": "ipython3",
   "version": "3.7.4"
  }
 },
 "nbformat": 4,
 "nbformat_minor": 2
}
