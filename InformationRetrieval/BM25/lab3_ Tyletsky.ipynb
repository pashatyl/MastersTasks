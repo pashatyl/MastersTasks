{
 "cells": [
  {
   "cell_type": "code",
   "execution_count": 2,
   "metadata": {},
   "outputs": [],
   "source": [
    "from tqdm import tqdm\n",
    "\n",
    "from typing import Dict, List, Tuple\n",
    "ArticleName = str\n",
    "Text = str\n",
    "Term = str\n",
    "CollectionData = None\n",
    "RankingParams = None"
   ]
  },
  {
   "cell_type": "markdown",
   "metadata": {},
   "source": [
    "### 1. Датасет\n",
    "В качестве документов для поиска, требуется использовать статьи википедии, скачанные в одном из предыдущих домашних заданий.\n",
    "Реализуйте получение содержимого документа по названию статьи в соответствии с выбранной вами схемы хранения документов. Также, преобразуйте содержимое в текст (не html) любым разумным способом. Постарайтесь при этом вырезать заведомо бесполезные для поиска данные со страницы."
   ]
  },
  {
   "cell_type": "code",
   "execution_count": 3,
   "metadata": {},
   "outputs": [
    {
     "name": "stdout",
     "output_type": "stream",
     "text": [
      "Article: Software_Development_Kit\n",
      "A software development kit (SDK or \"devkit\") is usually a set of development tools that allows a software developer to create applications for a certain software package, software framework, hardware platform, computer system, video game console, operating system, or similar platform. SDKs vary greatly between a simple application programming interface to hardware used to simulate a system. Computers\n",
      "\n",
      "\n",
      "Article: Gangrene\n",
      "Gangrene is a serious medical condition that causes the decay and death of body tissue, usually in the extremities such as the fingers, hands, toes, and feet. The two main types of gangrene are dry gangrene and wet gangrene. A third less common type is a form of wet gangrene known as gas gangrene. A very rare type which affects the internal organs is known as internal gangrene. Dry gangrene is usually caused by a loss of blood supply to the affected area, such as may happen following an injury which damages the blood vessels to the affected area. Wet gangrene usually occurs when a wound becomes infected with various types of bacteria. Gas gangrene is usually caused by clostridium bacteria and mainly affects the muscles. Internal gangrene affects the internal organs, usually the intestines, gallbladder, or appendix. There are a number of risk factors which increase a person's chances of getting gangrene. These includes advanced blockage of the arteries in medical conditions such as diabetes. Classification and external resources Acral gangrene of the fingers in a person infected with the bubonic plague R02., I70.2, E10.2, I73.9 040.0, 785.4 19273 007218 article/217943 article/782709 article/214992 article/438994 article/2028899 article/2051157 D005734 Symptoms Medical signs\n",
      "\n",
      "\n",
      "Article: COVID-19_pandemic_in_Belarus\n",
      " >2000 confirmed cases 1000–1999 confirmed cases 500–999 confirmed cases 200–499 confirmed cases The COVID-19 pandemic was confirmed to have spread to Belarus, when the first case of COVID-19 in the country was registered in Minsk on 28 February 2020. On 28 February, Belarus confirmed its first case. A student from Iran tested positive on 27 February and was admitted to a hospital in Minsk. The individual arrived in Belarus via a flight from Baku, Azerbaijan, on 22 February. On 21 March, a total of 76 confirmed cases have been reported. Two days later, 81 confirmed cases have been reported, including 22 recoveries. According to the official data, more than 21,000 COVID-19 tests have been conducted in Belarus since 23 January. On 31 March, the first death was reported in Belarus. Number of confirmed cases by region (as of 20 April): >2000 confirmed cases 1000–1999 confirmed cases 500–999 confirmed cases 200–499 confirmed cases 1–199 confirmed cases COVID-19 SARS-CoV-2 Belarus Wuhan, China Minsk 28 February 2020 (7 months and 17 days) 26,772 8,168 151 History of Belarus COVID-19 pandemic by country\n",
      "\n",
      "\n",
      "Article: Guitar_Hero:_Aerosmith\n",
      "Guitar Hero: Aerosmith is a rhythm game made by Neversoft with other help from Activision. It is part of the Guitar Hero franchise. The game was released in North America on June 29 2008, and two days earlier in Europe. Some of the songs featured in the game include \"Combination\", \"Kings and Queens\", \"Train Kept A Rollin\" and \"Mama Kin\". NeversoftVicarious Visions (Wii)Budcat Creations (PS2) Activision Guitar Hero PlayStation 2, PlayStation 3, Wii, Xbox 360 In Europe: June 27, 2008, in North America: June 29, 2008 Rhythm Single-player, multiplayer 2008 video games Guitar Hero PlayStation 2 games PlayStation 3 games Windows games Xbox 360 games Aerosmith\n",
      "\n",
      "\n"
     ]
    },
    {
     "name": "stderr",
     "output_type": "stream",
     "text": [
      "D:\\parser1.py:28: GuessedAtParserWarning: No parser was explicitly specified, so I'm using the best available HTML parser for this system (\"html.parser\"). This usually isn't a problem, but if you run this code on another system, or in a different virtual environment, it may use a different parser and behave differently.\n",
      "\n",
      "The code that caused this warning is on line 28 of the file D:\\parser1.py. To get rid of this warning, pass the additional argument 'features=\"html.parser\"' to the BeautifulSoup constructor.\n",
      "\n",
      "  soup = BeautifulSoup(html)\n"
     ]
    }
   ],
   "source": [
    "import parser1\n",
    "\n",
    "for article_name in [\"Software_Development_Kit\", \"Gangrene\", \"COVID-19_pandemic_in_Belarus\", \"Guitar_Hero:_Aerosmith\"]:\n",
    "    print(f'Article: {article_name}\\n{parser1.get_article_text(article_name)}\\n\\n')"
   ]
  },
  {
   "cell_type": "markdown",
   "metadata": {},
   "source": [
    "Чтобы процесс занимал разумное время, поиск требуется производить только по некоторому заданному набору документов. Список целевых статей описан в файле selected_docs.tsv по одной на строку."
   ]
  },
  {
   "cell_type": "code",
   "execution_count": 4,
   "metadata": {},
   "outputs": [
    {
     "name": "stderr",
     "output_type": "stream",
     "text": [
      "15229it [00:00, 31464.88it/s]\n",
      "100%|███████████████████████████████████████████████████████████████████████████| 15229/15229 [02:04<00:00, 122.40it/s]"
     ]
    },
    {
     "name": "stdout",
     "output_type": "stream",
     "text": [
      "15229 docs loaded\n"
     ]
    },
    {
     "name": "stderr",
     "output_type": "stream",
     "text": [
      "\n"
     ]
    }
   ],
   "source": [
    "from multiprocessing import Pool\n",
    "\n",
    "def load_docs(selected_docs_fn: ArticleName, threads: int = 4) -> Dict[ArticleName, Text]:    \n",
    "    docs = {}\n",
    "    pool = Pool(threads)\n",
    "    tasks = []\n",
    "    for line in tqdm(open(selected_docs_fn, encoding='utf8')):\n",
    "        article_name = line.strip()\n",
    "        tasks.append((article_name, pool.apply_async(parser1.get_article_text, (article_name, ))))\n",
    "    for article_name, task in tqdm(tasks):\n",
    "        docs[article_name] = task.get(10**6)\n",
    "    return docs\n",
    "    \n",
    "docs = load_docs(\"./selected_docs.tsv\", 32)\n",
    "print(f'{len(docs)} docs loaded')"
   ]
  },
  {
   "cell_type": "markdown",
   "metadata": {},
   "source": [
    "Проверим, сколько документов из списка неправильно скачались (так как не было ретраев и проверки статус кода) и отфильтруем нормальные для дальнейшей работы"
   ]
  },
  {
   "cell_type": "code",
   "execution_count": 20,
   "metadata": {},
   "outputs": [
    {
     "name": "stdout",
     "output_type": "stream",
     "text": [
      "830\n"
     ]
    }
   ],
   "source": [
    "fdocs = {k: v for k, v in docs.items() if len(v) > 0}\n",
    "print(len(docs) - len(fdocs))\n",
    "fdocs, docs = docs, fdocs"
   ]
  },
  {
   "cell_type": "markdown",
   "metadata": {},
   "source": [
    "### 2. Поиск\n",
    "Реализуйте разбиение текста на термы."
   ]
  },
  {
   "cell_type": "code",
   "execution_count": 21,
   "metadata": {},
   "outputs": [
    {
     "name": "stderr",
     "output_type": "stream",
     "text": [
      "[nltk_data] Downloading package stopwords to\n",
      "[nltk_data]     C:\\Users\\pavel.tyletsky\\AppData\\Roaming\\nltk_data...\n",
      "[nltk_data]   Package stopwords is already up-to-date!\n"
     ]
    },
    {
     "name": "stdout",
     "output_type": "stream",
     "text": [
      "Hello, world! -> ['hello', 'world']\n",
      "Guitar Hero: Aerosmith -> ['guitar', 'hero', 'aerosmith']\n",
      "So Far, So Good... So What! -> ['far', 'good']\n",
      "such as mantı, döner, kebabs, Turkish delight, baklava, börek, köfte, and other foods -> ['mantı', 'döner', 'kebab', 'turkish', 'delight', 'baklava', 'börek', 'köfte', 'food']\n",
      "['first', 'letter', 'english', 'alphabet', 'small', 'letter', 'α', 'use', 'lower', 'case', 'vowel', 'spoken', 'ā', 'said', 'long', 'diphthong', 'ĕ', 'similar', 'alpha', 'greek', 'alphabet', 'surpris', 'stand', 'sound', 'alpha', 'omega', 'last', 'letter', 'greek', 'alphabet', 'mean', 'begin', 'end', 'music', 'notat', 'letter', 'symbol', 'note', 'scale', 'b', 'g', 'binari', 'number', 'letter', '01000001', 'letter', 'use', 'repres', 'team', 'old', 'tv', 'show', 'ateam', 'capit', 'written', 'use', 'capit', 'start', 'sentenc', 'write', 'letter', 'phoenician', 'alphabet', 'aleph', 'symbol', 'came', 'simpl', 'pictur', 'ox', 'head', 'phoenician', 'letter', 'help', 'make', 'basic', 'block', 'later', 'type', 'letter', 'greek', 'later', 'modifi', 'letter', 'use', 'letter', 'alpha', 'greek', 'alphabet', 'use', 'etruscan', 'northern', 'itali', 'roman', 'later', 'modifi', 'etruscan', 'alphabet', 'languag', 'letter', 'six', 'differ', 'sound', 'sound', 'like', 'æ', 'intern', 'phonet', 'alphabet', 'word', 'pad', 'sound', 'letter', 'word', 'father', 'develop', 'anoth', 'sound', 'word', 'ace', 'algebra', 'letter', 'along', 'letter', 'begin', 'alphabet', 'use', 'repres', 'known', 'quantiti', 'geometri', 'capit', 'b', 'c', 'etc', 'use', 'label', 'line', 'segment', 'line', 'etc', 'also', 'typic', 'use', 'one', 'letter', 'label', 'angl', 'triangl', 'aa', 'bb', 'cc', 'dd', 'ee', 'ff', 'gg', 'hh', 'ii', 'jj', 'kk', 'mm', 'nn', 'oo', 'pp', 'qq', 'rr', 'ss', 'tt', 'uu', 'vv', 'ww', 'xx', 'yy', 'zz', 'latin', 'letter', 'basic', 'english', '850', 'word', 'vowel', 'letter']\n"
     ]
    }
   ],
   "source": [
    "import string\n",
    "import nltk\n",
    "\n",
    "from collections import defaultdict \n",
    "from nltk.corpus import stopwords\n",
    "from nltk.stem.porter import PorterStemmer\n",
    "\n",
    "nltk.download('stopwords')\n",
    "\n",
    "stop_words = set(stopwords.words('english'))\n",
    "porter = PorterStemmer()\n",
    "\n",
    "def make_terms(text: Text) -> List[Term]:\n",
    "    return [porter.stem(word) for word \n",
    "            in text.lower().translate(str.maketrans('', '', string.punctuation)).split()\n",
    "            if word not in stop_words]\n",
    "\n",
    "for text in [\"Hello, world!\", \n",
    "             \"Guitar Hero: Aerosmith\", \n",
    "             \"So Far, So Good... So What!\", \n",
    "             \"such as mantı, döner, kebabs, Turkish delight, baklava, börek, köfte, and other foods\",\n",
    "            ]:\n",
    "    print(f'{text} -> {make_terms(text)}')\n",
    "    \n",
    "documents_terms = {k: make_terms(v) for k, v in docs.items()}\n",
    "    \n",
    "print(documents_terms['A'])"
   ]
  },
  {
   "cell_type": "markdown",
   "metadata": {},
   "source": [
    "Рассчитайте статистики термов и документов, которые понадобятся для реализации моделей tfidf и BM25: частота терма для документа, обратная документная частота терма и прочие."
   ]
  },
  {
   "cell_type": "code",
   "execution_count": 22,
   "metadata": {},
   "outputs": [
    {
     "name": "stdout",
     "output_type": "stream",
     "text": [
      "defaultdict(<class 'int'>, {'Warsaw_Uprising': 1, 'Allele': 2, 'Orlande_de_Lassus': 2, 'God': 3, 'Bible': 1, 'Jawa_Motors': 1, 'Croatian_language': 6, 'Edward_Drinker_Cope': 4, 'English_Civil_War': 1, 'Santa_Claus_lore': 1, 'Chess': 3, 'Unknown_(math)': 4, 'Function_(mathematics)': 2, 'Wisconsin_in_the_American_Civil_War': 1, 'Four_color_theorem': 2, 'John_Campbell_Ross': 1, 'Latin_alphabet_in_Turkish_countries': 10, 'Imaginary_number': 1, 'Calculus': 2, 'Joseph_Whittaker_(botanist)': 1, 'United_States_Army_trucks': 1, 'Levenshtein_distance': 1, 'Intergovernmental_Panel_on_Climate_Change': 2, 'List_of_dialling_codes_in_the_United_Kingdom': 1, 'Manuela_Saenz': 2, 'List_of_counties_in_Michigan': 1, 'Atomic_nucleus': 2, 'One_Day_in_the_Life_of_Ivan_Denisovich': 1, 'Edgar_Cayce': 2, 'A_Tale_of_Two_Cities': 3, 'Breadboard': 1, 'List_of_Latin_phrases_(I)': 1, 'Johann_Wolfgang_von_Goethe': 3, 'Jesus': 8, 'Shake_It_Up_(TV_series)': 2, 'Anagram': 1, 'Article_One_of_the_United_States_Constitution': 3, 'Bank_of_Tokyo-Mitsubishi_UFJ_Financial_Group': 1, 'Star_Trek': 1, 'First_Minister_and_deputy_First_Minister': 1, 'American_Sign_Language': 1, 'African_Americans_in_the_American_Civil_War': 1, 'Variable': 2, 'City_status_in_the_United_Kingdom': 38, 'British_War_Medal': 1, 'Names_of_God_in_Islam': 1, 'Word_search': 9, 'Alliteration': 3, 'Soap_made_from_human_corpses': 3, 'Logo': 2, 'History': 1, 'Kerning': 5, 'Egyptian_chronology': 1, 'Luke_the_Evangelist': 1, 'River': 1, 'Scott_Pruitt': 2, 'Mongolian_script': 2, 'List_of_Interstate_Highways': 1, 'Divide_and_conquer_algorithm': 1, 'German_National_Library': 1, 'Transport_for_London': 1, 'The_Lord_of_the_Rings': 2, 'Hieroglyph': 5, 'Anna_Louise_Strong': 1, 'Lolcat': 2, 'Blood_type': 1, 'Pion': 1, 'Mary_Anning': 1, 'Chromosome': 1, 'BDSM': 1, '2010_Atlantic_hurricane_season': 2, 'Genus': 1, 'Theory_of_Colours': 1, 'List_of_United_Kingdom_locations:_Aa-Ak': 1, 'Passenger_name_record': 1, 'Associated_Board_of_the_Royal_Schools_of_Music': 1, 'Pound_sterling': 1, 'Infinite_monkey_theorem': 1, 'Chemical_symbol': 2, 'Niggers_in_the_White_House': 1, 'Christian_Gottfried_Ehrenberg': 1, 'ISO_3166-2': 1, 'RAID': 1, 'Letter_box': 1, 'Epistle_to_the_Romans': 8, 'Jason_Mraz': 1, 'Sum': 1, 'Epistle_to_the_Colossians': 14, 'NATO_phonetic_alphabet': 5, 'Animal_Crossing:_Wild_World': 1, 'Malagasy_language': 1, 'Legibility': 1, 'Indian_rupee': 4, 'Angle': 1, 'The_Humane_Society_of_the_United_States': 1, 'Americans_with_Disabilities_Act': 3, 'Aaron_Copland': 1, 'William_III_of_England': 1, 'Photo_booth': 1, 'Ancient_Greece': 1, 'The_Lion_King': 1, 'Chinese_language': 1, 'Jejemon': 3, 'Sentence': 1, 'Punctuation': 2, 'Mole_(unit)': 1, 'Chemical_cell': 1, 'Jackie_Robinson': 4, 'Esperanto': 13, 'Smokey_Bear': 2, 'Typeface': 1, 'Chain_letter': 5, 'Cease_and_desist': 17, 'Sumter_County_Does': 1, 'Exo': 1, 'Joseph_Dalton_Hooker': 4, 'International_Bank_Account_Number': 3, 'Perl': 1, 'Albert_Einstein': 3, 'Prophet': 3, 'Non-fiction': 3, 'Protest': 1, 'Customs': 1, 'Leyden_jar': 1, 'List_of_Latin_phrases_(A)': 1, 'Nosferatu': 1, 'Nazi_Germany': 1, 'Ancient_Greek_wrestling': 4, 'Gramogram': 4, 'Doctor_Who': 1, 'Interlingua_grammar': 1, 'International_Phonetic_Alphabet': 8, 'About_the_Mystery_of_the_Letters': 10, 'Cubs_Win_Flag': 2, 'List_of_rivers_of_Delaware': 1, 'List_of_rivers_of_Wisconsin': 1, 'Motion_Picture_Sound_Editors': 1, 'Robert_Woodward': 1, 'Denial_of_the_Armenian_Genocide': 4, 'Kaon': 1, 'Names_of_God_in_Judaism': 2, 'Dollar': 1, 'List_of_U.S._state_shells': 1, 'Struggle_for_existence': 1, 'Nomenclature_of_Territorial_Units_for_Statistics': 1, 'Polynomial': 5, 'Commodity_market': 1, 'Little_Things_(Good_Charlotte_song)': 1, 'Vitamin': 3, 'Mormonism': 1, 'Caps_lock': 8, 'Twelfth_Night': 3, 'Ronald_Reagan': 2, 'Beta_particle': 1, 'Linear_function': 1, 'Talk_show': 1, 'Aspiration': 3, 'Closure_(computer_science)': 1, 'Proposition': 1, 'A_Fish_Called_Wanda': 2, 'Euro': 2, 'Caesar_cipher': 7, 'Word': 2, 'Set': 2, 'Pauline_epistles': 4, 'Jargon': 2, 'You': 1, 'Typesetting': 2, 'Shift_key': 2, 'Australian_English': 2, 'Paper_size': 7, 'Grammar': 1, 'Be_(Cyrillic)': 2, 'Serial_number': 3, 'Signature': 1, 'List_of_places_in_New_York': 2, 'Inline-four_engine': 1, 'Animal_Crossing': 1, 'ISO_4217': 7, 'Letters_patent': 8, 'Twenty-fifth_Amendment_to_the_United_States_Constitution': 7, 'French_Civil_Aviation_University': 1, 'Racial_segregation': 1, 'Antiderivative': 2, 'Leonardo_da_Vinci': 2, 'Oxygen': 1, 'Phillis_Wheatley': 2, 'The_West_Wing': 1, 'Science_fiction': 3, 'LGBT_rights_in_India': 1, 'Donkey_Kong_Country_Returns': 1, 'The_Prayer_of_Azariah_and_Song_of_the_Three_Holy_Children': 3, 'Origin_of_life': 1, 'ISO_639-2': 1, 'Hubert_Blaine_Wolfeschlegelsteinhausenbergerdorff_Sr.': 1, 'Self-synchronizing_code': 1, 'Right_angle': 1, 'German_language': 2, 'Dry_cleaning': 2, 'Product_(mathematics)': 1, 'Back_at_the_Barnyard': 1, 'American_Express': 3, 'Encryption': 9, 'I_Know_What_You_Did_Last_Summer': 3, 'Pollination': 1, 'JYJ': 1, 'List_of_rivers_of_Louisiana': 1, 'Guangdong_Independence_Movement': 1, 'Congo_rainforest': 1, 'Russian_language': 1, 'Reward': 1, 'Gustav_Stresemann': 1, 'Textual_difficulty': 1, 'Conserved_sequence': 1, 'Buster_Crabbe': 1, 'Emoticon': 7, 'Viet_Cong': 1, 'Objectivism_(Ayn_Rand)': 1, 'Twenty-first_Amendment_to_the_United_States_Constitution': 1, 'Grand_Duchess_Anastasia_Nikolaevna_of_Russia': 6, 'Country_code': 1, 'Cursor': 1, 'English_language': 1, 'List_of_movies_in_the_United_States_National_Film_Registry': 1, 'James_Mattis': 3, 'Dental_formula': 3, 'The_Brothers_Karamazov': 6, 'Lotus_Cars': 1, 'Dvorak_Simplified_Keyboard': 3, 'First_Epistle_to_the_Thessalonians': 9, 'Keyboard_(computer)': 5, 'Inkpad': 2, 'Organic_compound': 1, 'Electron_shell': 2, 'Advent': 1, 'International_Committee_of_the_Red_Cross': 1, 'Pi_bond': 1, 'Ace_Books': 4, 'Privateer': 1, 'Manhunter_(movie)': 2, 'Business_writing': 1, 'Tennessine': 1, 'Variety_(botany)': 1, 'List_of_rivers_of_Bosnia_and_Herzegovina': 1, 'List_of_rock_types': 1, 'Top-level_domain': 1, 'Venerable_Order_of_Saint_John': 1, 'Virus': 1, 'Ursula_K._Le_Guin': 3, 'Ryakuji': 3, 'Initial': 1, 'Mega_(Chile)': 1, 'Man_with_the_iron_mask': 5, 'Indo-European_languages': 1, 'Aristotle': 1, 'List_of_Latin_phrases_(E)': 1, 'Social_darwinism': 1, 'Forgiveness': 1, 'Formula': 1, 'Ten_Commandments': 1, 'University_of_Cambridge': 1, 'Personal_identification_number': 1, 'London_Passenger_Transport_Board': 1, 'Trademark': 1, 'John_McDouall_Stuart': 1, 'Saint_Valentine': 1, 'Group_(mathematics)': 2, 'Kenny_Chesney': 1, 'Christmas': 2, 'Jumbo': 3, 'Bald_eagle': 2, 'Romanization_of_Greek': 1, 'Scientific_notation': 1, 'T': 2, 'Great_Britain_road_numbering_scheme': 5, 'Lists_of_tropical_cyclone_names': 4, 'Order_of_Merit': 6, 'Propositional_logic': 1, 'Neon_lamp': 1, 'Uno_(card_game)': 1, 'Sign_language': 2, 'Books_of_the_Bible': 1, 'Three_letter_rule': 6, 'The_Importance_of_Being_Earnest': 1, 'Zodiac_Killer': 3, 'Haitham_bin_Tariq': 2, 'Amino_acid': 1, 'Random_variable': 1, 'List_of_settlements_in_Buckinghamshire': 1, 'A': 18, 'Logic': 1, 'U': 3, 'Assembly_language': 2, '4Lyn': 1, 'The_Hunting_of_the_Snark': 1, 'Page_Three': 1, 'Arabic_alphabet': 11, 'Ruth_Negga': 1, 'Alphabetical_order': 5, 'Semivowel': 4, 'Don_Carlos': 4, 'Scrapbook': 1, 'Password': 4, 'DNA': 1, 'Substituent': 1, 'List_of_Chicago_Blackhawks_players': 1, 'Chemical_formula': 1, 'Gettysburg_Address': 5, 'Bastide': 2, 'American_English': 1, 'Tongyong_Pinyin': 1, 'List_of_Sesame_Street_video_games': 1, 'Anthrax': 1, 'Common_year_starting_on_Tuesday': 1, 'Field_(mathematics)': 1, 'Penny_Lilac': 1, 'Minorities_in_Turkey': 1, 'Gunpowder_Plot': 8, 'Ligature_(typography)': 6, 'Bilabial_nasal': 1, 'Software_versioning': 1, 'Liberty_Bell': 1, 'Civil_Rights_Movement': 1, 'American_Academy_of_Arts_and_Letters': 4, 'First_Epistle_to_the_Corinthians': 5})\n"
     ]
    }
   ],
   "source": [
    "term_index = defaultdict(lambda: defaultdict(int))\n",
    "\n",
    "for name, content in documents_terms.items():\n",
    "    for term in content:\n",
    "        term_index[term][name] += 1\n",
    "        \n",
    "print(term_index['letter'])"
   ]
  },
  {
   "cell_type": "code",
   "execution_count": 23,
   "metadata": {},
   "outputs": [],
   "source": [
    "from math import log\n",
    "\n",
    "def tf(index, documents):\n",
    "    tfs = defaultdict(float)\n",
    "    for key, value in index.items():\n",
    "        for document, count in value.items():\n",
    "            tfs[(key, document)] = count * 1. / len(documents[document])\n",
    "            \n",
    "    return tfs\n",
    "\n",
    "def idf(index, documents):\n",
    "    return {term: log(len(documents) * 1. / len(value)) for term, value in index.items()}\n",
    "\n",
    "idfs = idf(term_index, documents_terms)\n",
    "tfs = tf(term_index, documents_terms)\n",
    "\n",
    "def tf_idf(tf, idf):\n",
    "    return {k: tf_value * idf[k[0]] for k, tf_value in tf.items()}\n",
    "\n",
    "tf_idf = tf_idf(tfs, idfs)"
   ]
  },
  {
   "cell_type": "markdown",
   "metadata": {},
   "source": [
    "Реализуйте поиск лучших 10 документов в модели tfidf и BM25 с параметрами b = 1, k1 = 1, k2=1.\n",
    "Строить инвертированный индекс не требуется (но и не запрещается)."
   ]
  },
  {
   "cell_type": "code",
   "execution_count": 24,
   "metadata": {},
   "outputs": [],
   "source": [
    "def test_search(search):\n",
    "    for query in [\"coronovirus in belarus\",\n",
    "              \"who won junior eurovision in 2005\",\n",
    "              \"science about full-text search\",\n",
    "             ]:\n",
    "        result = search(query)[:5]\n",
    "        print(f\"[{query}]\")\n",
    "        for article_name, score in result:\n",
    "            print(f\"{score:7.2f}  {article_name}\")\n",
    "        print(\"\\n\")"
   ]
  },
  {
   "cell_type": "code",
   "execution_count": 25,
   "metadata": {},
   "outputs": [
    {
     "name": "stdout",
     "output_type": "stream",
     "text": [
      "[coronovirus in belarus]\n",
      "   0.51  Time_in_Belarus\n",
      "   0.29  COVID-19_pandemic_in_Belarus\n",
      "   0.27  Daugava_River\n",
      "   0.26  Bug_River\n",
      "   0.18  Eurasian_Union\n",
      "\n",
      "\n",
      "[who won junior eurovision in 2005]\n",
      "   0.80  Junior_Eurovision_Song_Contest_2019\n",
      "   0.66  Herbie:_Fully_Loaded\n",
      "   0.52  Katherine_Hansen\n",
      "   0.46  Junior_Eurovision_Song_Contest_2015\n",
      "   0.42  Junior_Eurovision_Song_Contest_2004\n",
      "\n",
      "\n",
      "[science about full-text search]\n",
      "   0.87  Information_retrieval\n",
      "   0.55  Systems_science\n",
      "   0.50  Aliweb\n",
      "   0.49  Natural_sciences\n",
      "   0.48  Molecular_gastronomy\n",
      "\n",
      "\n"
     ]
    }
   ],
   "source": [
    "from itertools import chain, combinations\n",
    "\n",
    "def all_subsets(ss):\n",
    "    return chain(*map(lambda x: combinations(ss, x), range(len(ss),0, -1)))\n",
    "\n",
    "def search_tfidf(query):\n",
    "    query = make_terms(query)\n",
    "    subqueries = all_subsets(query)\n",
    "    \n",
    "    result_subsets = defaultdict(int)\n",
    "    for subset in subqueries:\n",
    "        sets = [set(term_index[term].keys()) for term in subset]\n",
    "\n",
    "        result = sets[0] or set()\n",
    "        for i in range(1, len(sets)):\n",
    "            result = result & sets[i]\n",
    "        \n",
    "        temporary_range = []\n",
    "        for document in result:\n",
    "            temporary_range.append((document, sum(map(lambda term: tf_idf.get((term, document)) or 0, subset))))\n",
    "        \n",
    "        for doc, score in temporary_range:\n",
    "            result_subsets[doc] += score\n",
    "\n",
    "    return list(sorted(result_subsets.items(), key=lambda x: -x[1]))\n",
    "\n",
    "test_search(search_tfidf)"
   ]
  },
  {
   "cell_type": "code",
   "execution_count": 26,
   "metadata": {},
   "outputs": [
    {
     "name": "stdout",
     "output_type": "stream",
     "text": [
      "[coronovirus in belarus]\n",
      "  10.13  Time_in_Belarus\n",
      "   9.80  COVID-19_pandemic_in_Belarus\n",
      "   9.75  Daugava_River\n",
      "   9.72  Bug_River\n",
      "   9.38  Eurasian_Union\n",
      "\n",
      "\n",
      "[who won junior eurovision in 2005]\n",
      "  20.65  Junior_Eurovision_Song_Contest_2019\n",
      "  19.01  Junior_Eurovision_Song_Contest_2015\n",
      "  18.61  Junior_Eurovision_Song_Contest_2004\n",
      "  18.54  Junior_Eurovision_Song_Contest_2014\n",
      "  15.16  Blue_(group)\n",
      "\n",
      "\n",
      "[science about full-text search]\n",
      "  23.33  Information_retrieval\n",
      "  12.48  On-Line_Encyclopedia_of_Integer_Sequences\n",
      "  11.79  Scientist\n",
      "  10.98  Citizen_science\n",
      "  10.69  Binary_search\n",
      "\n",
      "\n"
     ]
    }
   ],
   "source": [
    "from statistics import mean \n",
    "\n",
    "def search_bm25(query, b, k1, k2, type):\n",
    "    query_terms = defaultdict(int)\n",
    "    query = make_terms(query)\n",
    "\n",
    "    for term in query:\n",
    "        query_terms[term] += 1\n",
    "    \n",
    "    avg_doc_len = mean([len(doc) for doc in documents_terms.values()])\n",
    "\n",
    "    documents_range = []\n",
    "    for name, content in documents_terms.items():\n",
    "        if len(content) == 0:\n",
    "            continue\n",
    "        K = k1 * ((1 - b) + b * (len(content) * 1. / avg_doc_len))\n",
    "        result = sum(\n",
    "                (idfs.get(term) or 0) * (k1 + 1) * term_index[term][name] * 1. / (K + term_index[term][name]) * \\\n",
    "                (k2 + 1) * query_terms[term] * 1. / (k2 + query_terms[term]) \\\n",
    "            for term in query)\n",
    "        documents_range.append((name, result))\n",
    "        \n",
    "    return sorted(documents_range, key=lambda x: -x[1])\n",
    "\n",
    "ranking_params = {'type': 'bm25', \"b\" : 1, \"k1\" : 1, \"k2\" : 1} \n",
    "test_search(lambda x: search_bm25(x, **ranking_params))"
   ]
  },
  {
   "cell_type": "markdown",
   "metadata": {},
   "source": [
    "### 3. Оптимизация качества\n",
    "Для измерения качества поиска вам предоставляется список из пар (запрос, название статьи), которая означает, что по данному запросу данная статья является релевантной (а остальные – нерелевантны). Пары описаны в файле queries.tsv по одной на строку."
   ]
  },
  {
   "cell_type": "code",
   "execution_count": 34,
   "metadata": {},
   "outputs": [
    {
     "name": "stdout",
     "output_type": "stream",
     "text": [
      "199 queries loaded\n",
      "animals that have shells and live in water -> Shell_(zoology)\n",
      "how many different types of scorpions are there -> Scorpion\n",
      "describe the structure of a scientific name for a species -> Binomial_nomenclature\n",
      "what are the 3 types of plastids in plant cells -> Plastid\n",
      "who named the cell and how did he come up with that name -> Cell_theory\n"
     ]
    }
   ],
   "source": [
    "def load_queries(queries_fn: ArticleName) -> List[Tuple[Text, ArticleName]]:\n",
    "    queries = []\n",
    "    for line in open(queries_fn):\n",
    "        query, answer = line.rstrip().split('\\t', 1)\n",
    "        queries.append((query, answer))\n",
    "    return queries\n",
    "\n",
    "queries = list(filter(lambda x: x[1] in docs, load_queries(\"./queries.tsv\")))\n",
    "for query, answer in queries:\n",
    "    assert answer in docs\n",
    "    \n",
    "print(f'{len(queries)} queries loaded')\n",
    "for query, article_name in queries[:5]:\n",
    "    print(f'{query} -> {article_name}')"
   ]
  },
  {
   "cell_type": "markdown",
   "metadata": {},
   "source": [
    "Оценим поиск по нескольким метрикам: accuracy – доля запросов, где на первой позиции был найден релевантный документ; accuracy@10 – доля запросов, где релевантный документ попал в первую десятку, mrr@10 – средняя обратная позиция релевантного документа в первой десятке."
   ]
  },
  {
   "cell_type": "code",
   "execution_count": 35,
   "metadata": {},
   "outputs": [
    {
     "name": "stderr",
     "output_type": "stream",
     "text": [
      "Acc: 0.17, Acc10: 0.45, RR: 0.25: 100%|██████████████████████████████████████████████| 199/199 [00:06<00:00, 29.07it/s]\n",
      "Acc: 0.00, Acc10: 0.50, RR: 0.07:   1%|▍                                               | 2/199 [00:00<00:16, 12.20it/s]"
     ]
    },
    {
     "name": "stdout",
     "output_type": "stream",
     "text": [
      "TFIDF\n",
      "  Accuracy: 0.17\n",
      "  Accuracy10: 0.45\n",
      "  RR: 0.25\n"
     ]
    },
    {
     "name": "stderr",
     "output_type": "stream",
     "text": [
      "Acc: 0.18, Acc10: 0.48, RR: 0.26: 100%|██████████████████████████████████████████████| 199/199 [00:16<00:00, 12.39it/s]"
     ]
    },
    {
     "name": "stdout",
     "output_type": "stream",
     "text": [
      "BM25\n",
      "  Accuracy: 0.18\n",
      "  Accuracy10: 0.48\n",
      "  RR: 0.26\n"
     ]
    },
    {
     "name": "stderr",
     "output_type": "stream",
     "text": [
      "\n"
     ]
    }
   ],
   "source": [
    "def search(query, ranking_params = None):\n",
    "    if ranking_params[\"type\"] == \"bm25\":\n",
    "        return search_bm25(query, **ranking_params)\n",
    "    elif ranking_params[\"type\"] == \"tfidf\":\n",
    "        return search_tfidf(query)\n",
    "\n",
    "def run(\n",
    "    title,\n",
    "    queries: List[Tuple[Text, ArticleName]],\n",
    "    collection_data: CollectionData,\n",
    "    ranking_params: RankingParams) -> None:\n",
    "    accuracy = 0.0\n",
    "    accuracy10 = 0.0\n",
    "    rr = 0.0\n",
    "    processed = 0\n",
    "    with tqdm(queries) as progress:\n",
    "        for query, answer in progress:\n",
    "            result = search(query, ranking_params)[:10]\n",
    "            \n",
    "            rank = None\n",
    "            for position, (article_name, score) in enumerate(result):\n",
    "                if article_name == answer:\n",
    "                    rank = position + 1\n",
    "                    break\n",
    "                \n",
    "            if rank is not None:\n",
    "                accuracy += (rank == 1)\n",
    "                accuracy10 += (rank <= 10)\n",
    "                rr += 1.0 / rank\n",
    "                \n",
    "            processed += 1\n",
    "            progress.set_description(f'Acc: {accuracy/processed:0.2f}, Acc10: {accuracy10/processed:0.2f}, RR: {rr/processed:0.2f}')\n",
    "    print(f'{title}\\n  Accuracy: {accuracy/processed:0.2f}\\n  Accuracy10: {accuracy10/processed:0.2f}\\n  RR: {rr/processed:0.2f}')\n",
    "\n",
    "ranking_params = {\"type\": \"tfidf\"} \n",
    "run(\"TFIDF\", queries, documents_terms, ranking_params)\n",
    "\n",
    "ranking_params = {\"type\": \"bm25\", \"b\" : 1, \"k1\" : 1, \"k2\" : 1} \n",
    "run(\"BM25\", queries, documents_terms, ranking_params)"
   ]
  },
  {
   "cell_type": "markdown",
   "metadata": {},
   "source": [
    "Подберите оптимальные параметры BM25 для этого набора запросов и документов."
   ]
  },
  {
   "cell_type": "code",
   "execution_count": 36,
   "metadata": {},
   "outputs": [
    {
     "name": "stderr",
     "output_type": "stream",
     "text": [
      "Acc: 0.14, Acc10: 0.33, RR: 0.20: 100%|██████████████████████████████████████████████| 199/199 [00:34<00:00,  5.79it/s]\n",
      "Acc: 0.00, Acc10: 0.00, RR: 0.00:   1%|▏                                               | 1/199 [00:00<00:29,  6.62it/s]"
     ]
    },
    {
     "name": "stdout",
     "output_type": "stream",
     "text": [
      "BM25{'type': 'bm25', 'b': 0.0, 'k1': 1, 'k2': 1}\n",
      "  Accuracy: 0.14\n",
      "  Accuracy10: 0.33\n",
      "  RR: 0.20\n"
     ]
    },
    {
     "name": "stderr",
     "output_type": "stream",
     "text": [
      "Acc: 0.14, Acc10: 0.33, RR: 0.20: 100%|██████████████████████████████████████████████| 199/199 [00:35<00:00,  5.63it/s]\n",
      "Acc: 0.00, Acc10: 0.00, RR: 0.00:   1%|▏                                               | 1/199 [00:00<00:31,  6.21it/s]"
     ]
    },
    {
     "name": "stdout",
     "output_type": "stream",
     "text": [
      "BM25{'type': 'bm25', 'b': 0.0, 'k1': 1, 'k2': 2}\n",
      "  Accuracy: 0.14\n",
      "  Accuracy10: 0.33\n",
      "  RR: 0.20\n"
     ]
    },
    {
     "name": "stderr",
     "output_type": "stream",
     "text": [
      "Acc: 0.14, Acc10: 0.33, RR: 0.20: 100%|██████████████████████████████████████████████| 199/199 [00:35<00:00,  5.67it/s]\n",
      "Acc: 0.00, Acc10: 0.00, RR: 0.00:   1%|▏                                               | 1/199 [00:00<00:31,  6.25it/s]"
     ]
    },
    {
     "name": "stdout",
     "output_type": "stream",
     "text": [
      "BM25{'type': 'bm25', 'b': 0.0, 'k1': 1, 'k2': 3}\n",
      "  Accuracy: 0.14\n",
      "  Accuracy10: 0.33\n",
      "  RR: 0.20\n"
     ]
    },
    {
     "name": "stderr",
     "output_type": "stream",
     "text": [
      "Acc: 0.14, Acc10: 0.33, RR: 0.20: 100%|██████████████████████████████████████████████| 199/199 [00:35<00:00,  5.65it/s]\n",
      "Acc: 0.00, Acc10: 0.00, RR: 0.00:   1%|▏                                               | 1/199 [00:00<00:30,  6.57it/s]"
     ]
    },
    {
     "name": "stdout",
     "output_type": "stream",
     "text": [
      "BM25{'type': 'bm25', 'b': 0.0, 'k1': 1, 'k2': 4}\n",
      "  Accuracy: 0.14\n",
      "  Accuracy10: 0.33\n",
      "  RR: 0.20\n"
     ]
    },
    {
     "name": "stderr",
     "output_type": "stream",
     "text": [
      "Acc: 0.17, Acc10: 0.35, RR: 0.23: 100%|██████████████████████████████████████████████| 199/199 [00:35<00:00,  5.57it/s]\n",
      "Acc: 0.00, Acc10: 0.00, RR: 0.00:   1%|▏                                               | 1/199 [00:00<00:31,  6.21it/s]"
     ]
    },
    {
     "name": "stdout",
     "output_type": "stream",
     "text": [
      "BM25{'type': 'bm25', 'b': 0.0, 'k1': 2, 'k2': 1}\n",
      "  Accuracy: 0.17\n",
      "  Accuracy10: 0.35\n",
      "  RR: 0.23\n"
     ]
    },
    {
     "name": "stderr",
     "output_type": "stream",
     "text": [
      "Acc: 0.17, Acc10: 0.35, RR: 0.23: 100%|██████████████████████████████████████████████| 199/199 [00:35<00:00,  5.58it/s]\n",
      "Acc: 0.00, Acc10: 0.00, RR: 0.00:   1%|▏                                               | 1/199 [00:00<00:29,  6.62it/s]"
     ]
    },
    {
     "name": "stdout",
     "output_type": "stream",
     "text": [
      "BM25{'type': 'bm25', 'b': 0.0, 'k1': 2, 'k2': 2}\n",
      "  Accuracy: 0.17\n",
      "  Accuracy10: 0.35\n",
      "  RR: 0.23\n"
     ]
    },
    {
     "name": "stderr",
     "output_type": "stream",
     "text": [
      "Acc: 0.17, Acc10: 0.35, RR: 0.23: 100%|██████████████████████████████████████████████| 199/199 [00:35<00:00,  5.66it/s]\n",
      "Acc: 0.00, Acc10: 0.00, RR: 0.00:   1%|▏                                               | 1/199 [00:00<00:29,  6.62it/s]"
     ]
    },
    {
     "name": "stdout",
     "output_type": "stream",
     "text": [
      "BM25{'type': 'bm25', 'b': 0.0, 'k1': 2, 'k2': 3}\n",
      "  Accuracy: 0.17\n",
      "  Accuracy10: 0.35\n",
      "  RR: 0.23\n"
     ]
    },
    {
     "name": "stderr",
     "output_type": "stream",
     "text": [
      "Acc: 0.17, Acc10: 0.35, RR: 0.23: 100%|██████████████████████████████████████████████| 199/199 [00:35<00:00,  5.54it/s]\n",
      "Acc: 0.00, Acc10: 0.00, RR: 0.00:   1%|▏                                               | 1/199 [00:00<00:29,  6.76it/s]"
     ]
    },
    {
     "name": "stdout",
     "output_type": "stream",
     "text": [
      "BM25{'type': 'bm25', 'b': 0.0, 'k1': 2, 'k2': 4}\n",
      "  Accuracy: 0.17\n",
      "  Accuracy10: 0.35\n",
      "  RR: 0.23\n"
     ]
    },
    {
     "name": "stderr",
     "output_type": "stream",
     "text": [
      "Acc: 0.18, Acc10: 0.36, RR: 0.23: 100%|██████████████████████████████████████████████| 199/199 [00:34<00:00,  5.69it/s]\n",
      "Acc: 0.00, Acc10: 0.00, RR: 0.00:   1%|▏                                               | 1/199 [00:00<00:29,  6.76it/s]"
     ]
    },
    {
     "name": "stdout",
     "output_type": "stream",
     "text": [
      "BM25{'type': 'bm25', 'b': 0.0, 'k1': 3, 'k2': 1}\n",
      "  Accuracy: 0.18\n",
      "  Accuracy10: 0.36\n",
      "  RR: 0.23\n"
     ]
    },
    {
     "name": "stderr",
     "output_type": "stream",
     "text": [
      "Acc: 0.18, Acc10: 0.36, RR: 0.23: 100%|██████████████████████████████████████████████| 199/199 [00:36<00:00,  5.48it/s]\n",
      "Acc: 0.00, Acc10: 0.00, RR: 0.00:   1%|▏                                               | 1/199 [00:00<00:32,  6.10it/s]"
     ]
    },
    {
     "name": "stdout",
     "output_type": "stream",
     "text": [
      "BM25{'type': 'bm25', 'b': 0.0, 'k1': 3, 'k2': 2}\n",
      "  Accuracy: 0.18\n",
      "  Accuracy10: 0.36\n",
      "  RR: 0.23\n"
     ]
    },
    {
     "name": "stderr",
     "output_type": "stream",
     "text": [
      "Acc: 0.18, Acc10: 0.36, RR: 0.23: 100%|██████████████████████████████████████████████| 199/199 [00:34<00:00,  5.70it/s]\n",
      "Acc: 0.00, Acc10: 0.00, RR: 0.00:   1%|▏                                               | 1/199 [00:00<00:29,  6.71it/s]"
     ]
    },
    {
     "name": "stdout",
     "output_type": "stream",
     "text": [
      "BM25{'type': 'bm25', 'b': 0.0, 'k1': 3, 'k2': 3}\n",
      "  Accuracy: 0.18\n",
      "  Accuracy10: 0.36\n",
      "  RR: 0.23\n"
     ]
    },
    {
     "name": "stderr",
     "output_type": "stream",
     "text": [
      "Acc: 0.18, Acc10: 0.36, RR: 0.23: 100%|██████████████████████████████████████████████| 199/199 [00:35<00:00,  5.67it/s]\n",
      "Acc: 0.00, Acc10: 0.00, RR: 0.00:   1%|▏                                               | 1/199 [00:00<00:30,  6.41it/s]"
     ]
    },
    {
     "name": "stdout",
     "output_type": "stream",
     "text": [
      "BM25{'type': 'bm25', 'b': 0.0, 'k1': 3, 'k2': 4}\n",
      "  Accuracy: 0.18\n",
      "  Accuracy10: 0.36\n",
      "  RR: 0.23\n"
     ]
    },
    {
     "name": "stderr",
     "output_type": "stream",
     "text": [
      "Acc: 0.17, Acc10: 0.37, RR: 0.23: 100%|██████████████████████████████████████████████| 199/199 [00:38<00:00,  5.16it/s]\n",
      "Acc: 0.00, Acc10: 0.00, RR: 0.00:   1%|▏                                               | 1/199 [00:00<00:32,  6.06it/s]"
     ]
    },
    {
     "name": "stdout",
     "output_type": "stream",
     "text": [
      "BM25{'type': 'bm25', 'b': 0.0, 'k1': 4, 'k2': 1}\n",
      "  Accuracy: 0.17\n",
      "  Accuracy10: 0.37\n",
      "  RR: 0.23\n"
     ]
    },
    {
     "name": "stderr",
     "output_type": "stream",
     "text": [
      "Acc: 0.17, Acc10: 0.37, RR: 0.23: 100%|██████████████████████████████████████████████| 199/199 [00:37<00:00,  5.37it/s]\n",
      "Acc: 0.00, Acc10: 0.00, RR: 0.00:   1%|▏                                               | 1/199 [00:00<00:31,  6.37it/s]"
     ]
    },
    {
     "name": "stdout",
     "output_type": "stream",
     "text": [
      "BM25{'type': 'bm25', 'b': 0.0, 'k1': 4, 'k2': 2}\n",
      "  Accuracy: 0.17\n",
      "  Accuracy10: 0.37\n",
      "  RR: 0.23\n"
     ]
    },
    {
     "name": "stderr",
     "output_type": "stream",
     "text": [
      "Acc: 0.17, Acc10: 0.37, RR: 0.23: 100%|██████████████████████████████████████████████| 199/199 [00:38<00:00,  5.19it/s]\n",
      "Acc: 0.00, Acc10: 0.00, RR: 0.00:   1%|▏                                               | 1/199 [00:00<00:31,  6.21it/s]"
     ]
    },
    {
     "name": "stdout",
     "output_type": "stream",
     "text": [
      "BM25{'type': 'bm25', 'b': 0.0, 'k1': 4, 'k2': 3}\n",
      "  Accuracy: 0.17\n",
      "  Accuracy10: 0.37\n",
      "  RR: 0.23\n"
     ]
    },
    {
     "name": "stderr",
     "output_type": "stream",
     "text": [
      "Acc: 0.17, Acc10: 0.37, RR: 0.23: 100%|██████████████████████████████████████████████| 199/199 [00:40<00:00,  4.92it/s]\n",
      "Acc: 0.00, Acc10: 0.00, RR: 0.00:   1%|▏                                               | 1/199 [00:00<00:32,  6.17it/s]"
     ]
    },
    {
     "name": "stdout",
     "output_type": "stream",
     "text": [
      "BM25{'type': 'bm25', 'b': 0.0, 'k1': 4, 'k2': 4}\n",
      "  Accuracy: 0.17\n",
      "  Accuracy10: 0.37\n",
      "  RR: 0.23\n"
     ]
    },
    {
     "name": "stderr",
     "output_type": "stream",
     "text": [
      "Acc: 0.20, Acc10: 0.39, RR: 0.25: 100%|██████████████████████████████████████████████| 199/199 [00:38<00:00,  5.24it/s]\n",
      "Acc: 0.00, Acc10: 0.00, RR: 0.00:   1%|▏                                               | 1/199 [00:00<00:30,  6.41it/s]"
     ]
    },
    {
     "name": "stdout",
     "output_type": "stream",
     "text": [
      "BM25{'type': 'bm25', 'b': 0.125, 'k1': 1, 'k2': 1}\n",
      "  Accuracy: 0.20\n",
      "  Accuracy10: 0.39\n",
      "  RR: 0.25\n"
     ]
    },
    {
     "name": "stderr",
     "output_type": "stream",
     "text": [
      "Acc: 0.20, Acc10: 0.39, RR: 0.26: 100%|██████████████████████████████████████████████| 199/199 [00:36<00:00,  5.38it/s]\n",
      "Acc: 0.00, Acc10: 0.00, RR: 0.00:   1%|▏                                               | 1/199 [00:00<00:30,  6.58it/s]"
     ]
    },
    {
     "name": "stdout",
     "output_type": "stream",
     "text": [
      "BM25{'type': 'bm25', 'b': 0.125, 'k1': 1, 'k2': 2}\n",
      "  Accuracy: 0.20\n",
      "  Accuracy10: 0.39\n",
      "  RR: 0.26\n"
     ]
    },
    {
     "name": "stderr",
     "output_type": "stream",
     "text": [
      "Acc: 0.20, Acc10: 0.39, RR: 0.26: 100%|██████████████████████████████████████████████| 199/199 [00:36<00:00,  5.41it/s]\n",
      "Acc: 0.00, Acc10: 0.00, RR: 0.00:   0%|                                                        | 0/199 [00:00<?, ?it/s]"
     ]
    },
    {
     "name": "stdout",
     "output_type": "stream",
     "text": [
      "BM25{'type': 'bm25', 'b': 0.125, 'k1': 1, 'k2': 3}\n",
      "  Accuracy: 0.20\n",
      "  Accuracy10: 0.39\n",
      "  RR: 0.26\n"
     ]
    },
    {
     "name": "stderr",
     "output_type": "stream",
     "text": [
      "Acc: 0.20, Acc10: 0.39, RR: 0.26: 100%|██████████████████████████████████████████████| 199/199 [00:38<00:00,  5.11it/s]\n",
      "Acc: 0.00, Acc10: 0.00, RR: 0.00:   1%|▏                                               | 1/199 [00:00<00:31,  6.21it/s]"
     ]
    },
    {
     "name": "stdout",
     "output_type": "stream",
     "text": [
      "BM25{'type': 'bm25', 'b': 0.125, 'k1': 1, 'k2': 4}\n",
      "  Accuracy: 0.20\n",
      "  Accuracy10: 0.39\n",
      "  RR: 0.26\n"
     ]
    },
    {
     "name": "stderr",
     "output_type": "stream",
     "text": [
      "Acc: 0.22, Acc10: 0.44, RR: 0.28: 100%|██████████████████████████████████████████████| 199/199 [00:38<00:00,  5.13it/s]\n",
      "Acc: 0.00, Acc10: 0.00, RR: 0.00:   1%|▏                                               | 1/199 [00:00<00:32,  6.06it/s]"
     ]
    },
    {
     "name": "stdout",
     "output_type": "stream",
     "text": [
      "BM25{'type': 'bm25', 'b': 0.125, 'k1': 2, 'k2': 1}\n",
      "  Accuracy: 0.22\n",
      "  Accuracy10: 0.44\n",
      "  RR: 0.28\n"
     ]
    },
    {
     "name": "stderr",
     "output_type": "stream",
     "text": [
      "Acc: 0.22, Acc10: 0.44, RR: 0.28: 100%|██████████████████████████████████████████████| 199/199 [00:37<00:00,  5.37it/s]\n",
      "Acc: 0.00, Acc10: 0.00, RR: 0.00:   1%|▏                                               | 1/199 [00:00<00:30,  6.49it/s]"
     ]
    },
    {
     "name": "stdout",
     "output_type": "stream",
     "text": [
      "BM25{'type': 'bm25', 'b': 0.125, 'k1': 2, 'k2': 2}\n",
      "  Accuracy: 0.22\n",
      "  Accuracy10: 0.44\n",
      "  RR: 0.28\n"
     ]
    },
    {
     "name": "stderr",
     "output_type": "stream",
     "text": [
      "Acc: 0.22, Acc10: 0.44, RR: 0.28: 100%|██████████████████████████████████████████████| 199/199 [00:36<00:00,  5.51it/s]\n",
      "Acc: 0.00, Acc10: 0.00, RR: 0.00:   1%|▏                                               | 1/199 [00:00<00:30,  6.49it/s]"
     ]
    },
    {
     "name": "stdout",
     "output_type": "stream",
     "text": [
      "BM25{'type': 'bm25', 'b': 0.125, 'k1': 2, 'k2': 3}\n",
      "  Accuracy: 0.22\n",
      "  Accuracy10: 0.44\n",
      "  RR: 0.28\n"
     ]
    },
    {
     "name": "stderr",
     "output_type": "stream",
     "text": [
      "Acc: 0.22, Acc10: 0.44, RR: 0.28: 100%|██████████████████████████████████████████████| 199/199 [00:38<00:00,  5.23it/s]\n",
      "Acc: 0.00, Acc10: 0.00, RR: 0.00:   1%|▏                                               | 1/199 [00:00<00:31,  6.33it/s]"
     ]
    },
    {
     "name": "stdout",
     "output_type": "stream",
     "text": [
      "BM25{'type': 'bm25', 'b': 0.125, 'k1': 2, 'k2': 4}\n",
      "  Accuracy: 0.22\n",
      "  Accuracy10: 0.44\n",
      "  RR: 0.28\n"
     ]
    },
    {
     "name": "stderr",
     "output_type": "stream",
     "text": [
      "Acc: 0.24, Acc10: 0.44, RR: 0.30: 100%|██████████████████████████████████████████████| 199/199 [00:37<00:00,  5.36it/s]\n",
      "Acc: 0.00, Acc10: 0.00, RR: 0.00:   1%|▏                                               | 1/199 [00:00<00:33,  5.95it/s]"
     ]
    },
    {
     "name": "stdout",
     "output_type": "stream",
     "text": [
      "BM25{'type': 'bm25', 'b': 0.125, 'k1': 3, 'k2': 1}\n",
      "  Accuracy: 0.24\n",
      "  Accuracy10: 0.44\n",
      "  RR: 0.30\n"
     ]
    },
    {
     "name": "stderr",
     "output_type": "stream",
     "text": [
      "Acc: 0.24, Acc10: 0.44, RR: 0.30: 100%|██████████████████████████████████████████████| 199/199 [00:37<00:00,  5.28it/s]\n",
      "Acc: 0.00, Acc10: 0.00, RR: 0.00:   1%|▏                                               | 1/199 [00:00<00:31,  6.25it/s]"
     ]
    },
    {
     "name": "stdout",
     "output_type": "stream",
     "text": [
      "BM25{'type': 'bm25', 'b': 0.125, 'k1': 3, 'k2': 2}\n",
      "  Accuracy: 0.24\n",
      "  Accuracy10: 0.44\n",
      "  RR: 0.30\n"
     ]
    },
    {
     "name": "stderr",
     "output_type": "stream",
     "text": [
      "Acc: 0.24, Acc10: 0.44, RR: 0.30: 100%|██████████████████████████████████████████████| 199/199 [00:36<00:00,  5.42it/s]\n",
      "Acc: 0.00, Acc10: 0.00, RR: 0.00:   1%|▏                                               | 1/199 [00:00<00:32,  6.13it/s]"
     ]
    },
    {
     "name": "stdout",
     "output_type": "stream",
     "text": [
      "BM25{'type': 'bm25', 'b': 0.125, 'k1': 3, 'k2': 3}\n",
      "  Accuracy: 0.24\n",
      "  Accuracy10: 0.44\n",
      "  RR: 0.30\n"
     ]
    },
    {
     "name": "stderr",
     "output_type": "stream",
     "text": [
      "Acc: 0.24, Acc10: 0.44, RR: 0.30: 100%|██████████████████████████████████████████████| 199/199 [00:36<00:00,  5.43it/s]\n",
      "Acc: 0.00, Acc10: 0.00, RR: 0.00:   1%|▏                                               | 1/199 [00:00<00:30,  6.41it/s]"
     ]
    },
    {
     "name": "stdout",
     "output_type": "stream",
     "text": [
      "BM25{'type': 'bm25', 'b': 0.125, 'k1': 3, 'k2': 4}\n",
      "  Accuracy: 0.24\n",
      "  Accuracy10: 0.44\n",
      "  RR: 0.30\n"
     ]
    },
    {
     "name": "stderr",
     "output_type": "stream",
     "text": [
      "Acc: 0.24, Acc10: 0.45, RR: 0.31: 100%|██████████████████████████████████████████████| 199/199 [00:36<00:00,  5.46it/s]\n",
      "Acc: 0.00, Acc10: 0.00, RR: 0.00:   1%|▏                                               | 1/199 [00:00<00:30,  6.49it/s]"
     ]
    },
    {
     "name": "stdout",
     "output_type": "stream",
     "text": [
      "BM25{'type': 'bm25', 'b': 0.125, 'k1': 4, 'k2': 1}\n",
      "  Accuracy: 0.24\n",
      "  Accuracy10: 0.45\n",
      "  RR: 0.31\n"
     ]
    },
    {
     "name": "stderr",
     "output_type": "stream",
     "text": [
      "Acc: 0.24, Acc10: 0.45, RR: 0.31: 100%|██████████████████████████████████████████████| 199/199 [00:35<00:00,  5.59it/s]\n",
      "Acc: 0.00, Acc10: 0.00, RR: 0.00:   1%|▏                                               | 1/199 [00:00<00:31,  6.29it/s]"
     ]
    },
    {
     "name": "stdout",
     "output_type": "stream",
     "text": [
      "BM25{'type': 'bm25', 'b': 0.125, 'k1': 4, 'k2': 2}\n",
      "  Accuracy: 0.24\n",
      "  Accuracy10: 0.45\n",
      "  RR: 0.31\n"
     ]
    },
    {
     "name": "stderr",
     "output_type": "stream",
     "text": [
      "Acc: 0.24, Acc10: 0.45, RR: 0.31: 100%|██████████████████████████████████████████████| 199/199 [00:36<00:00,  5.51it/s]\n",
      "Acc: 0.00, Acc10: 0.00, RR: 0.00:   1%|▏                                               | 1/199 [00:00<00:30,  6.58it/s]"
     ]
    },
    {
     "name": "stdout",
     "output_type": "stream",
     "text": [
      "BM25{'type': 'bm25', 'b': 0.125, 'k1': 4, 'k2': 3}\n",
      "  Accuracy: 0.24\n",
      "  Accuracy10: 0.45\n",
      "  RR: 0.31\n"
     ]
    },
    {
     "name": "stderr",
     "output_type": "stream",
     "text": [
      "Acc: 0.24, Acc10: 0.45, RR: 0.30: 100%|██████████████████████████████████████████████| 199/199 [00:35<00:00,  5.63it/s]\n",
      "Acc: 0.00, Acc10: 0.00, RR: 0.00:   1%|▏                                               | 1/199 [00:00<00:29,  6.67it/s]"
     ]
    },
    {
     "name": "stdout",
     "output_type": "stream",
     "text": [
      "BM25{'type': 'bm25', 'b': 0.125, 'k1': 4, 'k2': 4}\n",
      "  Accuracy: 0.24\n",
      "  Accuracy10: 0.45\n",
      "  RR: 0.30\n"
     ]
    },
    {
     "name": "stderr",
     "output_type": "stream",
     "text": [
      "Acc: 0.21, Acc10: 0.44, RR: 0.27: 100%|██████████████████████████████████████████████| 199/199 [00:34<00:00,  5.75it/s]\n",
      "Acc: 0.00, Acc10: 0.00, RR: 0.00:   1%|▏                                               | 1/199 [00:00<00:29,  6.71it/s]"
     ]
    },
    {
     "name": "stdout",
     "output_type": "stream",
     "text": [
      "BM25{'type': 'bm25', 'b': 0.25, 'k1': 1, 'k2': 1}\n",
      "  Accuracy: 0.21\n",
      "  Accuracy10: 0.44\n",
      "  RR: 0.27\n"
     ]
    },
    {
     "name": "stderr",
     "output_type": "stream",
     "text": [
      "Acc: 0.21, Acc10: 0.44, RR: 0.27: 100%|██████████████████████████████████████████████| 199/199 [00:34<00:00,  5.75it/s]\n",
      "Acc: 0.00, Acc10: 0.00, RR: 0.00:   1%|▏                                               | 1/199 [00:00<00:29,  6.76it/s]"
     ]
    },
    {
     "name": "stdout",
     "output_type": "stream",
     "text": [
      "BM25{'type': 'bm25', 'b': 0.25, 'k1': 1, 'k2': 2}\n",
      "  Accuracy: 0.21\n",
      "  Accuracy10: 0.44\n",
      "  RR: 0.27\n"
     ]
    },
    {
     "name": "stderr",
     "output_type": "stream",
     "text": [
      "Acc: 0.21, Acc10: 0.44, RR: 0.27: 100%|██████████████████████████████████████████████| 199/199 [00:34<00:00,  5.77it/s]\n",
      "Acc: 0.00, Acc10: 0.00, RR: 0.00:   1%|▏                                               | 1/199 [00:00<00:29,  6.80it/s]"
     ]
    },
    {
     "name": "stdout",
     "output_type": "stream",
     "text": [
      "BM25{'type': 'bm25', 'b': 0.25, 'k1': 1, 'k2': 3}\n",
      "  Accuracy: 0.21\n",
      "  Accuracy10: 0.44\n",
      "  RR: 0.27\n"
     ]
    },
    {
     "name": "stderr",
     "output_type": "stream",
     "text": [
      "Acc: 0.21, Acc10: 0.44, RR: 0.27: 100%|██████████████████████████████████████████████| 199/199 [00:34<00:00,  5.75it/s]\n",
      "Acc: 0.00, Acc10: 0.00, RR: 0.00:   1%|▏                                               | 1/199 [00:00<00:30,  6.54it/s]"
     ]
    },
    {
     "name": "stdout",
     "output_type": "stream",
     "text": [
      "BM25{'type': 'bm25', 'b': 0.25, 'k1': 1, 'k2': 4}\n",
      "  Accuracy: 0.21\n",
      "  Accuracy10: 0.44\n",
      "  RR: 0.27\n"
     ]
    },
    {
     "name": "stderr",
     "output_type": "stream",
     "text": [
      "Acc: 0.25, Acc10: 0.49, RR: 0.32: 100%|██████████████████████████████████████████████| 199/199 [00:35<00:00,  5.68it/s]\n",
      "Acc: 0.00, Acc10: 0.00, RR: 0.00:   1%|▏                                               | 1/199 [00:00<00:29,  6.80it/s]"
     ]
    },
    {
     "name": "stdout",
     "output_type": "stream",
     "text": [
      "BM25{'type': 'bm25', 'b': 0.25, 'k1': 2, 'k2': 1}\n",
      "  Accuracy: 0.25\n",
      "  Accuracy10: 0.49\n",
      "  RR: 0.32\n"
     ]
    },
    {
     "name": "stderr",
     "output_type": "stream",
     "text": [
      "Acc: 0.25, Acc10: 0.49, RR: 0.32: 100%|██████████████████████████████████████████████| 199/199 [00:35<00:00,  5.63it/s]\n",
      "Acc: 0.00, Acc10: 0.00, RR: 0.00:   1%|▏                                               | 1/199 [00:00<00:33,  5.99it/s]"
     ]
    },
    {
     "name": "stdout",
     "output_type": "stream",
     "text": [
      "BM25{'type': 'bm25', 'b': 0.25, 'k1': 2, 'k2': 2}\n",
      "  Accuracy: 0.25\n",
      "  Accuracy10: 0.49\n",
      "  RR: 0.32\n"
     ]
    },
    {
     "name": "stderr",
     "output_type": "stream",
     "text": [
      "Acc: 0.25, Acc10: 0.49, RR: 0.32: 100%|██████████████████████████████████████████████| 199/199 [00:35<00:00,  5.65it/s]\n",
      "Acc: 0.00, Acc10: 0.00, RR: 0.00:   1%|▏                                               | 1/199 [00:00<00:30,  6.53it/s]"
     ]
    },
    {
     "name": "stdout",
     "output_type": "stream",
     "text": [
      "BM25{'type': 'bm25', 'b': 0.25, 'k1': 2, 'k2': 3}\n",
      "  Accuracy: 0.25\n",
      "  Accuracy10: 0.49\n",
      "  RR: 0.32\n"
     ]
    },
    {
     "name": "stderr",
     "output_type": "stream",
     "text": [
      "Acc: 0.25, Acc10: 0.49, RR: 0.32: 100%|██████████████████████████████████████████████| 199/199 [00:35<00:00,  5.65it/s]\n",
      "Acc: 0.00, Acc10: 0.00, RR: 0.00:   1%|▏                                               | 1/199 [00:00<00:29,  6.80it/s]"
     ]
    },
    {
     "name": "stdout",
     "output_type": "stream",
     "text": [
      "BM25{'type': 'bm25', 'b': 0.25, 'k1': 2, 'k2': 4}\n",
      "  Accuracy: 0.25\n",
      "  Accuracy10: 0.49\n",
      "  RR: 0.32\n"
     ]
    },
    {
     "name": "stderr",
     "output_type": "stream",
     "text": [
      "Acc: 0.25, Acc10: 0.47, RR: 0.32: 100%|██████████████████████████████████████████████| 199/199 [00:34<00:00,  5.75it/s]\n",
      "Acc: 0.00, Acc10: 0.00, RR: 0.00:   1%|▏                                               | 1/199 [00:00<00:29,  6.80it/s]"
     ]
    },
    {
     "name": "stdout",
     "output_type": "stream",
     "text": [
      "BM25{'type': 'bm25', 'b': 0.25, 'k1': 3, 'k2': 1}\n",
      "  Accuracy: 0.25\n",
      "  Accuracy10: 0.47\n",
      "  RR: 0.32\n"
     ]
    },
    {
     "name": "stderr",
     "output_type": "stream",
     "text": [
      "Acc: 0.25, Acc10: 0.47, RR: 0.32: 100%|██████████████████████████████████████████████| 199/199 [00:35<00:00,  5.62it/s]\n",
      "Acc: 0.00, Acc10: 0.00, RR: 0.00:   1%|▏                                               | 1/199 [00:00<00:29,  6.62it/s]"
     ]
    },
    {
     "name": "stdout",
     "output_type": "stream",
     "text": [
      "BM25{'type': 'bm25', 'b': 0.25, 'k1': 3, 'k2': 2}\n",
      "  Accuracy: 0.25\n",
      "  Accuracy10: 0.47\n",
      "  RR: 0.32\n"
     ]
    },
    {
     "name": "stderr",
     "output_type": "stream",
     "text": [
      "Acc: 0.25, Acc10: 0.47, RR: 0.32: 100%|██████████████████████████████████████████████| 199/199 [00:35<00:00,  5.61it/s]\n",
      "Acc: 0.00, Acc10: 0.00, RR: 0.00:   1%|▏                                               | 1/199 [00:00<00:29,  6.76it/s]"
     ]
    },
    {
     "name": "stdout",
     "output_type": "stream",
     "text": [
      "BM25{'type': 'bm25', 'b': 0.25, 'k1': 3, 'k2': 3}\n",
      "  Accuracy: 0.25\n",
      "  Accuracy10: 0.47\n",
      "  RR: 0.32\n"
     ]
    },
    {
     "name": "stderr",
     "output_type": "stream",
     "text": [
      "Acc: 0.25, Acc10: 0.47, RR: 0.32: 100%|██████████████████████████████████████████████| 199/199 [00:34<00:00,  5.76it/s]\n",
      "Acc: 0.00, Acc10: 0.00, RR: 0.00:   1%|▏                                               | 1/199 [00:00<00:29,  6.71it/s]"
     ]
    },
    {
     "name": "stdout",
     "output_type": "stream",
     "text": [
      "BM25{'type': 'bm25', 'b': 0.25, 'k1': 3, 'k2': 4}\n",
      "  Accuracy: 0.25\n",
      "  Accuracy10: 0.47\n",
      "  RR: 0.32\n"
     ]
    },
    {
     "name": "stderr",
     "output_type": "stream",
     "text": [
      "Acc: 0.26, Acc10: 0.49, RR: 0.33: 100%|██████████████████████████████████████████████| 199/199 [00:35<00:00,  5.59it/s]\n",
      "Acc: 0.00, Acc10: 0.00, RR: 0.00:   1%|▏                                               | 1/199 [00:00<00:29,  6.80it/s]"
     ]
    },
    {
     "name": "stdout",
     "output_type": "stream",
     "text": [
      "BM25{'type': 'bm25', 'b': 0.25, 'k1': 4, 'k2': 1}\n",
      "  Accuracy: 0.26\n",
      "  Accuracy10: 0.49\n",
      "  RR: 0.33\n"
     ]
    },
    {
     "name": "stderr",
     "output_type": "stream",
     "text": [
      "Acc: 0.26, Acc10: 0.49, RR: 0.33: 100%|██████████████████████████████████████████████| 199/199 [00:35<00:00,  5.61it/s]\n",
      "Acc: 0.00, Acc10: 0.00, RR: 0.00:   1%|▏                                               | 1/199 [00:00<00:29,  6.67it/s]"
     ]
    },
    {
     "name": "stdout",
     "output_type": "stream",
     "text": [
      "BM25{'type': 'bm25', 'b': 0.25, 'k1': 4, 'k2': 2}\n",
      "  Accuracy: 0.26\n",
      "  Accuracy10: 0.49\n",
      "  RR: 0.33\n"
     ]
    },
    {
     "name": "stderr",
     "output_type": "stream",
     "text": [
      "Acc: 0.26, Acc10: 0.48, RR: 0.33: 100%|██████████████████████████████████████████████| 199/199 [00:35<00:00,  5.67it/s]\n",
      "Acc: 0.00, Acc10: 0.00, RR: 0.00:   1%|▏                                               | 1/199 [00:00<00:29,  6.71it/s]"
     ]
    },
    {
     "name": "stdout",
     "output_type": "stream",
     "text": [
      "BM25{'type': 'bm25', 'b': 0.25, 'k1': 4, 'k2': 3}\n",
      "  Accuracy: 0.26\n",
      "  Accuracy10: 0.48\n",
      "  RR: 0.33\n"
     ]
    },
    {
     "name": "stderr",
     "output_type": "stream",
     "text": [
      "Acc: 0.26, Acc10: 0.49, RR: 0.33: 100%|██████████████████████████████████████████████| 199/199 [00:35<00:00,  5.65it/s]\n",
      "Acc: 0.00, Acc10: 0.00, RR: 0.00:   1%|▏                                               | 1/199 [00:00<00:29,  6.80it/s]"
     ]
    },
    {
     "name": "stdout",
     "output_type": "stream",
     "text": [
      "BM25{'type': 'bm25', 'b': 0.25, 'k1': 4, 'k2': 4}\n",
      "  Accuracy: 0.26\n",
      "  Accuracy10: 0.49\n",
      "  RR: 0.33\n"
     ]
    },
    {
     "name": "stderr",
     "output_type": "stream",
     "text": [
      "Acc: 0.21, Acc10: 0.46, RR: 0.28: 100%|██████████████████████████████████████████████| 199/199 [00:34<00:00,  5.76it/s]\n",
      "Acc: 0.00, Acc10: 0.00, RR: 0.00:   1%|▏                                               | 1/199 [00:00<00:29,  6.76it/s]"
     ]
    },
    {
     "name": "stdout",
     "output_type": "stream",
     "text": [
      "BM25{'type': 'bm25', 'b': 0.375, 'k1': 1, 'k2': 1}\n",
      "  Accuracy: 0.21\n",
      "  Accuracy10: 0.46\n",
      "  RR: 0.28\n"
     ]
    },
    {
     "name": "stderr",
     "output_type": "stream",
     "text": [
      "Acc: 0.21, Acc10: 0.46, RR: 0.28: 100%|██████████████████████████████████████████████| 199/199 [00:34<00:00,  5.84it/s]\n",
      "Acc: 0.00, Acc10: 0.00, RR: 0.00:   1%|▏                                               | 1/199 [00:00<00:28,  6.95it/s]"
     ]
    },
    {
     "name": "stdout",
     "output_type": "stream",
     "text": [
      "BM25{'type': 'bm25', 'b': 0.375, 'k1': 1, 'k2': 2}\n",
      "  Accuracy: 0.21\n",
      "  Accuracy10: 0.46\n",
      "  RR: 0.28\n"
     ]
    },
    {
     "name": "stderr",
     "output_type": "stream",
     "text": [
      "Acc: 0.21, Acc10: 0.46, RR: 0.28: 100%|██████████████████████████████████████████████| 199/199 [00:34<00:00,  5.83it/s]\n",
      "Acc: 0.00, Acc10: 0.00, RR: 0.00:   1%|▏                                               | 1/199 [00:00<00:29,  6.80it/s]"
     ]
    },
    {
     "name": "stdout",
     "output_type": "stream",
     "text": [
      "BM25{'type': 'bm25', 'b': 0.375, 'k1': 1, 'k2': 3}\n",
      "  Accuracy: 0.21\n",
      "  Accuracy10: 0.46\n",
      "  RR: 0.28\n"
     ]
    },
    {
     "name": "stderr",
     "output_type": "stream",
     "text": [
      "Acc: 0.21, Acc10: 0.46, RR: 0.28: 100%|██████████████████████████████████████████████| 199/199 [00:34<00:00,  5.76it/s]\n",
      "Acc: 0.00, Acc10: 0.00, RR: 0.00:   1%|▏                                               | 1/199 [00:00<00:29,  6.80it/s]"
     ]
    },
    {
     "name": "stdout",
     "output_type": "stream",
     "text": [
      "BM25{'type': 'bm25', 'b': 0.375, 'k1': 1, 'k2': 4}\n",
      "  Accuracy: 0.21\n",
      "  Accuracy10: 0.46\n",
      "  RR: 0.28\n"
     ]
    },
    {
     "name": "stderr",
     "output_type": "stream",
     "text": [
      "Acc: 0.25, Acc10: 0.50, RR: 0.32: 100%|██████████████████████████████████████████████| 199/199 [00:34<00:00,  5.73it/s]\n",
      "Acc: 0.00, Acc10: 0.00, RR: 0.00:   1%|▏                                               | 1/199 [00:00<00:28,  6.85it/s]"
     ]
    },
    {
     "name": "stdout",
     "output_type": "stream",
     "text": [
      "BM25{'type': 'bm25', 'b': 0.375, 'k1': 2, 'k2': 1}\n",
      "  Accuracy: 0.25\n",
      "  Accuracy10: 0.50\n",
      "  RR: 0.32\n"
     ]
    },
    {
     "name": "stderr",
     "output_type": "stream",
     "text": [
      "Acc: 0.25, Acc10: 0.51, RR: 0.33: 100%|██████████████████████████████████████████████| 199/199 [00:34<00:00,  5.70it/s]\n",
      "Acc: 0.00, Acc10: 0.00, RR: 0.00:   1%|▏                                               | 1/199 [00:00<00:32,  6.10it/s]"
     ]
    },
    {
     "name": "stdout",
     "output_type": "stream",
     "text": [
      "BM25{'type': 'bm25', 'b': 0.375, 'k1': 2, 'k2': 2}\n",
      "  Accuracy: 0.25\n",
      "  Accuracy10: 0.51\n",
      "  RR: 0.33\n"
     ]
    },
    {
     "name": "stderr",
     "output_type": "stream",
     "text": [
      "Acc: 0.25, Acc10: 0.51, RR: 0.33: 100%|██████████████████████████████████████████████| 199/199 [00:34<00:00,  5.72it/s]\n",
      "Acc: 0.00, Acc10: 0.00, RR: 0.00:   1%|▏                                               | 1/199 [00:00<00:29,  6.71it/s]"
     ]
    },
    {
     "name": "stdout",
     "output_type": "stream",
     "text": [
      "BM25{'type': 'bm25', 'b': 0.375, 'k1': 2, 'k2': 3}\n",
      "  Accuracy: 0.25\n",
      "  Accuracy10: 0.51\n",
      "  RR: 0.33\n"
     ]
    },
    {
     "name": "stderr",
     "output_type": "stream",
     "text": [
      "Acc: 0.25, Acc10: 0.51, RR: 0.33: 100%|██████████████████████████████████████████████| 199/199 [00:35<00:00,  5.66it/s]\n",
      "Acc: 0.00, Acc10: 0.00, RR: 0.00:   1%|▏                                               | 1/199 [00:00<00:29,  6.71it/s]"
     ]
    },
    {
     "name": "stdout",
     "output_type": "stream",
     "text": [
      "BM25{'type': 'bm25', 'b': 0.375, 'k1': 2, 'k2': 4}\n",
      "  Accuracy: 0.25\n",
      "  Accuracy10: 0.51\n",
      "  RR: 0.33\n"
     ]
    },
    {
     "name": "stderr",
     "output_type": "stream",
     "text": [
      "Acc: 0.27, Acc10: 0.52, RR: 0.35: 100%|██████████████████████████████████████████████| 199/199 [00:34<00:00,  5.81it/s]\n",
      "Acc: 0.00, Acc10: 0.00, RR: 0.00:   1%|▏                                               | 1/199 [00:00<00:29,  6.80it/s]"
     ]
    },
    {
     "name": "stdout",
     "output_type": "stream",
     "text": [
      "BM25{'type': 'bm25', 'b': 0.375, 'k1': 3, 'k2': 1}\n",
      "  Accuracy: 0.27\n",
      "  Accuracy10: 0.52\n",
      "  RR: 0.35\n"
     ]
    },
    {
     "name": "stderr",
     "output_type": "stream",
     "text": [
      "Acc: 0.27, Acc10: 0.52, RR: 0.35: 100%|██████████████████████████████████████████████| 199/199 [00:34<00:00,  5.72it/s]\n",
      "Acc: 0.00, Acc10: 0.00, RR: 0.00:   1%|▏                                               | 1/199 [00:00<00:28,  6.85it/s]"
     ]
    },
    {
     "name": "stdout",
     "output_type": "stream",
     "text": [
      "BM25{'type': 'bm25', 'b': 0.375, 'k1': 3, 'k2': 2}\n",
      "  Accuracy: 0.27\n",
      "  Accuracy10: 0.52\n",
      "  RR: 0.35\n"
     ]
    },
    {
     "name": "stderr",
     "output_type": "stream",
     "text": [
      "Acc: 0.27, Acc10: 0.52, RR: 0.35: 100%|██████████████████████████████████████████████| 199/199 [00:34<00:00,  5.75it/s]\n",
      "Acc: 0.00, Acc10: 0.00, RR: 0.00:   1%|▏                                               | 1/199 [00:00<00:28,  6.90it/s]"
     ]
    },
    {
     "name": "stdout",
     "output_type": "stream",
     "text": [
      "BM25{'type': 'bm25', 'b': 0.375, 'k1': 3, 'k2': 3}\n",
      "  Accuracy: 0.27\n",
      "  Accuracy10: 0.52\n",
      "  RR: 0.35\n"
     ]
    },
    {
     "name": "stderr",
     "output_type": "stream",
     "text": [
      "Acc: 0.27, Acc10: 0.52, RR: 0.35: 100%|██████████████████████████████████████████████| 199/199 [00:34<00:00,  5.74it/s]\n",
      "Acc: 0.00, Acc10: 0.00, RR: 0.00:   1%|▏                                               | 1/199 [00:00<00:29,  6.76it/s]"
     ]
    },
    {
     "name": "stdout",
     "output_type": "stream",
     "text": [
      "BM25{'type': 'bm25', 'b': 0.375, 'k1': 3, 'k2': 4}\n",
      "  Accuracy: 0.27\n",
      "  Accuracy10: 0.52\n",
      "  RR: 0.35\n"
     ]
    },
    {
     "name": "stderr",
     "output_type": "stream",
     "text": [
      "Acc: 0.26, Acc10: 0.51, RR: 0.34: 100%|██████████████████████████████████████████████| 199/199 [00:34<00:00,  5.71it/s]\n",
      "Acc: 0.00, Acc10: 0.00, RR: 0.00:   1%|▏                                               | 1/199 [00:00<00:30,  6.49it/s]"
     ]
    },
    {
     "name": "stdout",
     "output_type": "stream",
     "text": [
      "BM25{'type': 'bm25', 'b': 0.375, 'k1': 4, 'k2': 1}\n",
      "  Accuracy: 0.26\n",
      "  Accuracy10: 0.51\n",
      "  RR: 0.34\n"
     ]
    },
    {
     "name": "stderr",
     "output_type": "stream",
     "text": [
      "Acc: 0.26, Acc10: 0.51, RR: 0.34: 100%|██████████████████████████████████████████████| 199/199 [00:35<00:00,  5.66it/s]\n",
      "Acc: 0.00, Acc10: 0.00, RR: 0.00:   1%|▏                                               | 1/199 [00:00<00:29,  6.62it/s]"
     ]
    },
    {
     "name": "stdout",
     "output_type": "stream",
     "text": [
      "BM25{'type': 'bm25', 'b': 0.375, 'k1': 4, 'k2': 2}\n",
      "  Accuracy: 0.26\n",
      "  Accuracy10: 0.51\n",
      "  RR: 0.34\n"
     ]
    },
    {
     "name": "stderr",
     "output_type": "stream",
     "text": [
      "Acc: 0.26, Acc10: 0.51, RR: 0.34: 100%|██████████████████████████████████████████████| 199/199 [00:35<00:00,  5.60it/s]\n",
      "Acc: 0.00, Acc10: 0.00, RR: 0.00:   1%|▏                                               | 1/199 [00:00<00:29,  6.67it/s]"
     ]
    },
    {
     "name": "stdout",
     "output_type": "stream",
     "text": [
      "BM25{'type': 'bm25', 'b': 0.375, 'k1': 4, 'k2': 3}\n",
      "  Accuracy: 0.26\n",
      "  Accuracy10: 0.51\n",
      "  RR: 0.34\n"
     ]
    },
    {
     "name": "stderr",
     "output_type": "stream",
     "text": [
      "Acc: 0.26, Acc10: 0.50, RR: 0.34: 100%|██████████████████████████████████████████████| 199/199 [00:35<00:00,  5.67it/s]\n",
      "Acc: 0.00, Acc10: 0.00, RR: 0.00:   1%|▏                                               | 1/199 [00:00<00:31,  6.37it/s]"
     ]
    },
    {
     "name": "stdout",
     "output_type": "stream",
     "text": [
      "BM25{'type': 'bm25', 'b': 0.375, 'k1': 4, 'k2': 4}\n",
      "  Accuracy: 0.26\n",
      "  Accuracy10: 0.50\n",
      "  RR: 0.34\n"
     ]
    },
    {
     "name": "stderr",
     "output_type": "stream",
     "text": [
      "Acc: 0.22, Acc10: 0.49, RR: 0.29: 100%|██████████████████████████████████████████████| 199/199 [00:37<00:00,  5.35it/s]\n",
      "Acc: 0.00, Acc10: 0.00, RR: 0.00:   1%|▏                                               | 1/199 [00:00<00:29,  6.80it/s]"
     ]
    },
    {
     "name": "stdout",
     "output_type": "stream",
     "text": [
      "BM25{'type': 'bm25', 'b': 0.5, 'k1': 1, 'k2': 1}\n",
      "  Accuracy: 0.22\n",
      "  Accuracy10: 0.49\n",
      "  RR: 0.29\n"
     ]
    },
    {
     "name": "stderr",
     "output_type": "stream",
     "text": [
      "Acc: 0.22, Acc10: 0.49, RR: 0.29: 100%|██████████████████████████████████████████████| 199/199 [00:35<00:00,  5.57it/s]\n",
      "Acc: 0.00, Acc10: 0.00, RR: 0.00:   1%|▏                                               | 1/199 [00:00<00:29,  6.80it/s]"
     ]
    },
    {
     "name": "stdout",
     "output_type": "stream",
     "text": [
      "BM25{'type': 'bm25', 'b': 0.5, 'k1': 1, 'k2': 2}\n",
      "  Accuracy: 0.22\n",
      "  Accuracy10: 0.49\n",
      "  RR: 0.29\n"
     ]
    },
    {
     "name": "stderr",
     "output_type": "stream",
     "text": [
      "Acc: 0.22, Acc10: 0.49, RR: 0.29: 100%|██████████████████████████████████████████████| 199/199 [00:34<00:00,  5.77it/s]\n",
      "Acc: 0.00, Acc10: 0.00, RR: 0.00:   1%|▏                                               | 1/199 [00:00<00:28,  6.99it/s]"
     ]
    },
    {
     "name": "stdout",
     "output_type": "stream",
     "text": [
      "BM25{'type': 'bm25', 'b': 0.5, 'k1': 1, 'k2': 3}\n",
      "  Accuracy: 0.22\n",
      "  Accuracy10: 0.49\n",
      "  RR: 0.29\n"
     ]
    },
    {
     "name": "stderr",
     "output_type": "stream",
     "text": [
      "Acc: 0.22, Acc10: 0.49, RR: 0.29: 100%|██████████████████████████████████████████████| 199/199 [00:34<00:00,  5.70it/s]\n",
      "Acc: 0.00, Acc10: 0.00, RR: 0.00:   1%|▏                                               | 1/199 [00:00<00:31,  6.33it/s]"
     ]
    },
    {
     "name": "stdout",
     "output_type": "stream",
     "text": [
      "BM25{'type': 'bm25', 'b': 0.5, 'k1': 1, 'k2': 4}\n",
      "  Accuracy: 0.22\n",
      "  Accuracy10: 0.49\n",
      "  RR: 0.29\n"
     ]
    },
    {
     "name": "stderr",
     "output_type": "stream",
     "text": [
      "Acc: 0.27, Acc10: 0.52, RR: 0.34: 100%|██████████████████████████████████████████████| 199/199 [00:35<00:00,  5.68it/s]\n",
      "Acc: 0.00, Acc10: 0.00, RR: 0.00:   1%|▏                                               | 1/199 [00:00<00:29,  6.80it/s]"
     ]
    },
    {
     "name": "stdout",
     "output_type": "stream",
     "text": [
      "BM25{'type': 'bm25', 'b': 0.5, 'k1': 2, 'k2': 1}\n",
      "  Accuracy: 0.27\n",
      "  Accuracy10: 0.52\n",
      "  RR: 0.34\n"
     ]
    },
    {
     "name": "stderr",
     "output_type": "stream",
     "text": [
      "Acc: 0.27, Acc10: 0.53, RR: 0.34: 100%|██████████████████████████████████████████████| 199/199 [00:35<00:00,  5.68it/s]\n",
      "Acc: 0.00, Acc10: 0.00, RR: 0.00:   1%|▏                                               | 1/199 [00:00<00:29,  6.62it/s]"
     ]
    },
    {
     "name": "stdout",
     "output_type": "stream",
     "text": [
      "BM25{'type': 'bm25', 'b': 0.5, 'k1': 2, 'k2': 2}\n",
      "  Accuracy: 0.27\n",
      "  Accuracy10: 0.53\n",
      "  RR: 0.34\n"
     ]
    },
    {
     "name": "stderr",
     "output_type": "stream",
     "text": [
      "Acc: 0.27, Acc10: 0.53, RR: 0.34: 100%|██████████████████████████████████████████████| 199/199 [00:34<00:00,  5.69it/s]\n",
      "Acc: 0.00, Acc10: 0.00, RR: 0.00:   1%|▏                                               | 1/199 [00:00<00:29,  6.67it/s]"
     ]
    },
    {
     "name": "stdout",
     "output_type": "stream",
     "text": [
      "BM25{'type': 'bm25', 'b': 0.5, 'k1': 2, 'k2': 3}\n",
      "  Accuracy: 0.27\n",
      "  Accuracy10: 0.53\n",
      "  RR: 0.34\n"
     ]
    },
    {
     "name": "stderr",
     "output_type": "stream",
     "text": [
      "Acc: 0.27, Acc10: 0.53, RR: 0.34: 100%|██████████████████████████████████████████████| 199/199 [00:34<00:00,  5.71it/s]\n",
      "Acc: 0.00, Acc10: 0.00, RR: 0.00:   1%|▏                                               | 1/199 [00:00<00:28,  6.90it/s]"
     ]
    },
    {
     "name": "stdout",
     "output_type": "stream",
     "text": [
      "BM25{'type': 'bm25', 'b': 0.5, 'k1': 2, 'k2': 4}\n",
      "  Accuracy: 0.27\n",
      "  Accuracy10: 0.53\n",
      "  RR: 0.34\n"
     ]
    },
    {
     "name": "stderr",
     "output_type": "stream",
     "text": [
      "Acc: 0.28, Acc10: 0.53, RR: 0.35: 100%|██████████████████████████████████████████████| 199/199 [00:34<00:00,  5.80it/s]\n",
      "  0%|                                                                                          | 0/199 [00:00<?, ?it/s]"
     ]
    },
    {
     "name": "stdout",
     "output_type": "stream",
     "text": [
      "BM25{'type': 'bm25', 'b': 0.5, 'k1': 3, 'k2': 1}\n",
      "  Accuracy: 0.28\n",
      "  Accuracy10: 0.53\n",
      "  RR: 0.35\n"
     ]
    },
    {
     "name": "stderr",
     "output_type": "stream",
     "text": [
      "Acc: 0.28, Acc10: 0.53, RR: 0.35: 100%|██████████████████████████████████████████████| 199/199 [00:34<00:00,  5.78it/s]\n",
      "Acc: 0.00, Acc10: 0.00, RR: 0.00:   1%|▏                                               | 1/199 [00:00<00:29,  6.80it/s]"
     ]
    },
    {
     "name": "stdout",
     "output_type": "stream",
     "text": [
      "BM25{'type': 'bm25', 'b': 0.5, 'k1': 3, 'k2': 2}\n",
      "  Accuracy: 0.28\n",
      "  Accuracy10: 0.53\n",
      "  RR: 0.35\n"
     ]
    },
    {
     "name": "stderr",
     "output_type": "stream",
     "text": [
      "Acc: 0.28, Acc10: 0.53, RR: 0.35: 100%|██████████████████████████████████████████████| 199/199 [00:34<00:00,  5.84it/s]\n",
      "Acc: 0.00, Acc10: 0.00, RR: 0.00:   1%|▏                                               | 1/199 [00:00<00:29,  6.71it/s]"
     ]
    },
    {
     "name": "stdout",
     "output_type": "stream",
     "text": [
      "BM25{'type': 'bm25', 'b': 0.5, 'k1': 3, 'k2': 3}\n",
      "  Accuracy: 0.28\n",
      "  Accuracy10: 0.53\n",
      "  RR: 0.35\n"
     ]
    },
    {
     "name": "stderr",
     "output_type": "stream",
     "text": [
      "Acc: 0.28, Acc10: 0.53, RR: 0.35: 100%|██████████████████████████████████████████████| 199/199 [00:34<00:00,  5.79it/s]\n",
      "Acc: 0.00, Acc10: 0.00, RR: 0.00:   1%|▏                                               | 1/199 [00:00<00:29,  6.71it/s]"
     ]
    },
    {
     "name": "stdout",
     "output_type": "stream",
     "text": [
      "BM25{'type': 'bm25', 'b': 0.5, 'k1': 3, 'k2': 4}\n",
      "  Accuracy: 0.28\n",
      "  Accuracy10: 0.53\n",
      "  RR: 0.35\n"
     ]
    },
    {
     "name": "stderr",
     "output_type": "stream",
     "text": [
      "Acc: 0.28, Acc10: 0.55, RR: 0.36: 100%|██████████████████████████████████████████████| 199/199 [00:34<00:00,  5.70it/s]\n",
      "Acc: 0.00, Acc10: 0.00, RR: 0.00:   1%|▏                                               | 1/199 [00:00<00:29,  6.80it/s]"
     ]
    },
    {
     "name": "stdout",
     "output_type": "stream",
     "text": [
      "BM25{'type': 'bm25', 'b': 0.5, 'k1': 4, 'k2': 1}\n",
      "  Accuracy: 0.28\n",
      "  Accuracy10: 0.55\n",
      "  RR: 0.36\n"
     ]
    },
    {
     "name": "stderr",
     "output_type": "stream",
     "text": [
      "Acc: 0.28, Acc10: 0.55, RR: 0.36: 100%|██████████████████████████████████████████████| 199/199 [00:34<00:00,  5.74it/s]\n",
      "Acc: 0.00, Acc10: 0.00, RR: 0.00:   1%|▏                                               | 1/199 [00:00<00:29,  6.76it/s]"
     ]
    },
    {
     "name": "stdout",
     "output_type": "stream",
     "text": [
      "BM25{'type': 'bm25', 'b': 0.5, 'k1': 4, 'k2': 2}\n",
      "  Accuracy: 0.28\n",
      "  Accuracy10: 0.55\n",
      "  RR: 0.36\n"
     ]
    },
    {
     "name": "stderr",
     "output_type": "stream",
     "text": [
      "Acc: 0.28, Acc10: 0.55, RR: 0.36: 100%|██████████████████████████████████████████████| 199/199 [00:34<00:00,  5.75it/s]\n",
      "Acc: 0.00, Acc10: 0.00, RR: 0.00:   1%|▏                                               | 1/199 [00:00<00:29,  6.62it/s]"
     ]
    },
    {
     "name": "stdout",
     "output_type": "stream",
     "text": [
      "BM25{'type': 'bm25', 'b': 0.5, 'k1': 4, 'k2': 3}\n",
      "  Accuracy: 0.28\n",
      "  Accuracy10: 0.55\n",
      "  RR: 0.36\n"
     ]
    },
    {
     "name": "stderr",
     "output_type": "stream",
     "text": [
      "Acc: 0.28, Acc10: 0.54, RR: 0.35: 100%|██████████████████████████████████████████████| 199/199 [00:35<00:00,  5.64it/s]\n",
      "Acc: 0.00, Acc10: 0.00, RR: 0.00:   1%|▏                                               | 1/199 [00:00<00:29,  6.80it/s]"
     ]
    },
    {
     "name": "stdout",
     "output_type": "stream",
     "text": [
      "BM25{'type': 'bm25', 'b': 0.5, 'k1': 4, 'k2': 4}\n",
      "  Accuracy: 0.28\n",
      "  Accuracy10: 0.54\n",
      "  RR: 0.35\n"
     ]
    },
    {
     "name": "stderr",
     "output_type": "stream",
     "text": [
      "Acc: 0.21, Acc10: 0.49, RR: 0.28: 100%|██████████████████████████████████████████████| 199/199 [00:34<00:00,  5.80it/s]\n",
      "Acc: 0.00, Acc10: 0.00, RR: 0.00:   1%|▏                                               | 1/199 [00:00<00:29,  6.71it/s]"
     ]
    },
    {
     "name": "stdout",
     "output_type": "stream",
     "text": [
      "BM25{'type': 'bm25', 'b': 0.625, 'k1': 1, 'k2': 1}\n",
      "  Accuracy: 0.21\n",
      "  Accuracy10: 0.49\n",
      "  RR: 0.28\n"
     ]
    },
    {
     "name": "stderr",
     "output_type": "stream",
     "text": [
      "Acc: 0.21, Acc10: 0.50, RR: 0.28: 100%|██████████████████████████████████████████████| 199/199 [00:34<00:00,  5.82it/s]\n",
      "Acc: 0.00, Acc10: 0.00, RR: 0.00:   1%|▏                                               | 1/199 [00:00<00:29,  6.62it/s]"
     ]
    },
    {
     "name": "stdout",
     "output_type": "stream",
     "text": [
      "BM25{'type': 'bm25', 'b': 0.625, 'k1': 1, 'k2': 2}\n",
      "  Accuracy: 0.21\n",
      "  Accuracy10: 0.50\n",
      "  RR: 0.28\n"
     ]
    },
    {
     "name": "stderr",
     "output_type": "stream",
     "text": [
      "Acc: 0.21, Acc10: 0.50, RR: 0.28: 100%|██████████████████████████████████████████████| 199/199 [00:34<00:00,  5.80it/s]\n",
      "Acc: 0.00, Acc10: 0.00, RR: 0.00:   1%|▏                                               | 1/199 [00:00<00:28,  6.85it/s]"
     ]
    },
    {
     "name": "stdout",
     "output_type": "stream",
     "text": [
      "BM25{'type': 'bm25', 'b': 0.625, 'k1': 1, 'k2': 3}\n",
      "  Accuracy: 0.21\n",
      "  Accuracy10: 0.50\n",
      "  RR: 0.28\n"
     ]
    },
    {
     "name": "stderr",
     "output_type": "stream",
     "text": [
      "Acc: 0.21, Acc10: 0.50, RR: 0.28: 100%|██████████████████████████████████████████████| 199/199 [00:34<00:00,  5.75it/s]\n",
      "Acc: 0.00, Acc10: 0.00, RR: 0.00:   1%|▏                                               | 1/199 [00:00<00:29,  6.67it/s]"
     ]
    },
    {
     "name": "stdout",
     "output_type": "stream",
     "text": [
      "BM25{'type': 'bm25', 'b': 0.625, 'k1': 1, 'k2': 4}\n",
      "  Accuracy: 0.21\n",
      "  Accuracy10: 0.50\n",
      "  RR: 0.28\n"
     ]
    },
    {
     "name": "stderr",
     "output_type": "stream",
     "text": [
      "Acc: 0.27, Acc10: 0.54, RR: 0.35: 100%|██████████████████████████████████████████████| 199/199 [00:34<00:00,  5.73it/s]\n",
      "Acc: 0.00, Acc10: 0.00, RR: 0.00:   1%|▏                                               | 1/199 [00:00<00:29,  6.67it/s]"
     ]
    },
    {
     "name": "stdout",
     "output_type": "stream",
     "text": [
      "BM25{'type': 'bm25', 'b': 0.625, 'k1': 2, 'k2': 1}\n",
      "  Accuracy: 0.27\n",
      "  Accuracy10: 0.54\n",
      "  RR: 0.35\n"
     ]
    },
    {
     "name": "stderr",
     "output_type": "stream",
     "text": [
      "Acc: 0.27, Acc10: 0.54, RR: 0.35: 100%|██████████████████████████████████████████████| 199/199 [00:35<00:00,  5.68it/s]\n",
      "Acc: 0.00, Acc10: 0.00, RR: 0.00:   1%|▏                                               | 1/199 [00:00<00:28,  6.85it/s]"
     ]
    },
    {
     "name": "stdout",
     "output_type": "stream",
     "text": [
      "BM25{'type': 'bm25', 'b': 0.625, 'k1': 2, 'k2': 2}\n",
      "  Accuracy: 0.27\n",
      "  Accuracy10: 0.54\n",
      "  RR: 0.35\n"
     ]
    },
    {
     "name": "stderr",
     "output_type": "stream",
     "text": [
      "Acc: 0.27, Acc10: 0.54, RR: 0.35: 100%|██████████████████████████████████████████████| 199/199 [00:34<00:00,  5.71it/s]\n",
      "Acc: 0.00, Acc10: 0.00, RR: 0.00:   1%|▏                                               | 1/199 [00:00<00:28,  6.85it/s]"
     ]
    },
    {
     "name": "stdout",
     "output_type": "stream",
     "text": [
      "BM25{'type': 'bm25', 'b': 0.625, 'k1': 2, 'k2': 3}\n",
      "  Accuracy: 0.27\n",
      "  Accuracy10: 0.54\n",
      "  RR: 0.35\n"
     ]
    },
    {
     "name": "stderr",
     "output_type": "stream",
     "text": [
      "Acc: 0.27, Acc10: 0.54, RR: 0.35: 100%|██████████████████████████████████████████████| 199/199 [00:35<00:00,  5.68it/s]\n",
      "Acc: 0.00, Acc10: 0.00, RR: 0.00:   1%|▏                                               | 1/199 [00:00<00:29,  6.76it/s]"
     ]
    },
    {
     "name": "stdout",
     "output_type": "stream",
     "text": [
      "BM25{'type': 'bm25', 'b': 0.625, 'k1': 2, 'k2': 4}\n",
      "  Accuracy: 0.27\n",
      "  Accuracy10: 0.54\n",
      "  RR: 0.35\n"
     ]
    },
    {
     "name": "stderr",
     "output_type": "stream",
     "text": [
      "Acc: 0.28, Acc10: 0.54, RR: 0.36: 100%|██████████████████████████████████████████████| 199/199 [00:34<00:00,  5.80it/s]\n",
      "Acc: 0.00, Acc10: 0.00, RR: 0.00:   1%|▏                                               | 1/199 [00:00<00:28,  6.85it/s]"
     ]
    },
    {
     "name": "stdout",
     "output_type": "stream",
     "text": [
      "BM25{'type': 'bm25', 'b': 0.625, 'k1': 3, 'k2': 1}\n",
      "  Accuracy: 0.28\n",
      "  Accuracy10: 0.54\n",
      "  RR: 0.36\n"
     ]
    },
    {
     "name": "stderr",
     "output_type": "stream",
     "text": [
      "Acc: 0.28, Acc10: 0.54, RR: 0.36: 100%|██████████████████████████████████████████████| 199/199 [00:34<00:00,  5.77it/s]\n",
      "Acc: 0.00, Acc10: 0.00, RR: 0.00:   1%|▏                                               | 1/199 [00:00<00:29,  6.80it/s]"
     ]
    },
    {
     "name": "stdout",
     "output_type": "stream",
     "text": [
      "BM25{'type': 'bm25', 'b': 0.625, 'k1': 3, 'k2': 2}\n",
      "  Accuracy: 0.28\n",
      "  Accuracy10: 0.54\n",
      "  RR: 0.36\n"
     ]
    },
    {
     "name": "stderr",
     "output_type": "stream",
     "text": [
      "Acc: 0.28, Acc10: 0.54, RR: 0.36: 100%|██████████████████████████████████████████████| 199/199 [00:35<00:00,  5.65it/s]\n",
      "Acc: 0.00, Acc10: 0.00, RR: 0.00:   1%|▏                                               | 1/199 [00:00<00:28,  6.85it/s]"
     ]
    },
    {
     "name": "stdout",
     "output_type": "stream",
     "text": [
      "BM25{'type': 'bm25', 'b': 0.625, 'k1': 3, 'k2': 3}\n",
      "  Accuracy: 0.28\n",
      "  Accuracy10: 0.54\n",
      "  RR: 0.36\n"
     ]
    },
    {
     "name": "stderr",
     "output_type": "stream",
     "text": [
      "Acc: 0.28, Acc10: 0.54, RR: 0.36: 100%|██████████████████████████████████████████████| 199/199 [00:34<00:00,  5.77it/s]\n",
      "Acc: 0.00, Acc10: 0.00, RR: 0.00:   1%|▏                                               | 1/199 [00:00<00:29,  6.67it/s]"
     ]
    },
    {
     "name": "stdout",
     "output_type": "stream",
     "text": [
      "BM25{'type': 'bm25', 'b': 0.625, 'k1': 3, 'k2': 4}\n",
      "  Accuracy: 0.28\n",
      "  Accuracy10: 0.54\n",
      "  RR: 0.36\n"
     ]
    },
    {
     "name": "stderr",
     "output_type": "stream",
     "text": [
      "Acc: 0.28, Acc10: 0.57, RR: 0.36: 100%|██████████████████████████████████████████████| 199/199 [00:34<00:00,  5.70it/s]\n",
      "Acc: 0.00, Acc10: 0.00, RR: 0.00:   1%|▏                                               | 1/199 [00:00<00:29,  6.71it/s]"
     ]
    },
    {
     "name": "stdout",
     "output_type": "stream",
     "text": [
      "BM25{'type': 'bm25', 'b': 0.625, 'k1': 4, 'k2': 1}\n",
      "  Accuracy: 0.28\n",
      "  Accuracy10: 0.57\n",
      "  RR: 0.36\n"
     ]
    },
    {
     "name": "stderr",
     "output_type": "stream",
     "text": [
      "Acc: 0.28, Acc10: 0.56, RR: 0.36: 100%|██████████████████████████████████████████████| 199/199 [00:35<00:00,  5.65it/s]\n",
      "Acc: 0.00, Acc10: 0.00, RR: 0.00:   1%|▏                                               | 1/199 [00:00<00:29,  6.80it/s]"
     ]
    },
    {
     "name": "stdout",
     "output_type": "stream",
     "text": [
      "BM25{'type': 'bm25', 'b': 0.625, 'k1': 4, 'k2': 2}\n",
      "  Accuracy: 0.28\n",
      "  Accuracy10: 0.56\n",
      "  RR: 0.36\n"
     ]
    },
    {
     "name": "stderr",
     "output_type": "stream",
     "text": [
      "Acc: 0.27, Acc10: 0.56, RR: 0.36: 100%|██████████████████████████████████████████████| 199/199 [00:34<00:00,  5.70it/s]\n",
      "Acc: 0.00, Acc10: 0.00, RR: 0.00:   1%|▏                                               | 1/199 [00:00<00:32,  6.02it/s]"
     ]
    },
    {
     "name": "stdout",
     "output_type": "stream",
     "text": [
      "BM25{'type': 'bm25', 'b': 0.625, 'k1': 4, 'k2': 3}\n",
      "  Accuracy: 0.27\n",
      "  Accuracy10: 0.56\n",
      "  RR: 0.36\n"
     ]
    },
    {
     "name": "stderr",
     "output_type": "stream",
     "text": [
      "Acc: 0.27, Acc10: 0.56, RR: 0.36: 100%|██████████████████████████████████████████████| 199/199 [00:34<00:00,  5.69it/s]\n",
      "Acc: 0.00, Acc10: 0.00, RR: 0.00:   1%|▏                                               | 1/199 [00:00<00:29,  6.80it/s]"
     ]
    },
    {
     "name": "stdout",
     "output_type": "stream",
     "text": [
      "BM25{'type': 'bm25', 'b': 0.625, 'k1': 4, 'k2': 4}\n",
      "  Accuracy: 0.27\n",
      "  Accuracy10: 0.56\n",
      "  RR: 0.36\n"
     ]
    },
    {
     "name": "stderr",
     "output_type": "stream",
     "text": [
      "Acc: 0.20, Acc10: 0.50, RR: 0.28: 100%|██████████████████████████████████████████████| 199/199 [00:34<00:00,  5.76it/s]\n",
      "Acc: 0.00, Acc10: 0.00, RR: 0.00:   1%|▏                                               | 1/199 [00:00<00:30,  6.54it/s]"
     ]
    },
    {
     "name": "stdout",
     "output_type": "stream",
     "text": [
      "BM25{'type': 'bm25', 'b': 0.75, 'k1': 1, 'k2': 1}\n",
      "  Accuracy: 0.20\n",
      "  Accuracy10: 0.50\n",
      "  RR: 0.28\n"
     ]
    },
    {
     "name": "stderr",
     "output_type": "stream",
     "text": [
      "Acc: 0.20, Acc10: 0.50, RR: 0.28: 100%|██████████████████████████████████████████████| 199/199 [00:34<00:00,  5.76it/s]\n",
      "Acc: 0.00, Acc10: 0.00, RR: 0.00:   1%|▏                                               | 1/199 [00:00<00:28,  6.90it/s]"
     ]
    },
    {
     "name": "stdout",
     "output_type": "stream",
     "text": [
      "BM25{'type': 'bm25', 'b': 0.75, 'k1': 1, 'k2': 2}\n",
      "  Accuracy: 0.20\n",
      "  Accuracy10: 0.50\n",
      "  RR: 0.28\n"
     ]
    },
    {
     "name": "stderr",
     "output_type": "stream",
     "text": [
      "Acc: 0.20, Acc10: 0.50, RR: 0.28: 100%|██████████████████████████████████████████████| 199/199 [00:34<00:00,  5.74it/s]\n",
      "Acc: 0.00, Acc10: 0.00, RR: 0.00:   1%|▏                                               | 1/199 [00:00<00:28,  6.94it/s]"
     ]
    },
    {
     "name": "stdout",
     "output_type": "stream",
     "text": [
      "BM25{'type': 'bm25', 'b': 0.75, 'k1': 1, 'k2': 3}\n",
      "  Accuracy: 0.20\n",
      "  Accuracy10: 0.50\n",
      "  RR: 0.28\n"
     ]
    },
    {
     "name": "stderr",
     "output_type": "stream",
     "text": [
      "Acc: 0.20, Acc10: 0.50, RR: 0.28: 100%|██████████████████████████████████████████████| 199/199 [00:34<00:00,  5.80it/s]\n",
      "Acc: 0.00, Acc10: 0.00, RR: 0.00:   1%|▏                                               | 1/199 [00:00<00:29,  6.67it/s]"
     ]
    },
    {
     "name": "stdout",
     "output_type": "stream",
     "text": [
      "BM25{'type': 'bm25', 'b': 0.75, 'k1': 1, 'k2': 4}\n",
      "  Accuracy: 0.20\n",
      "  Accuracy10: 0.50\n",
      "  RR: 0.28\n"
     ]
    },
    {
     "name": "stderr",
     "output_type": "stream",
     "text": [
      "Acc: 0.25, Acc10: 0.53, RR: 0.34: 100%|██████████████████████████████████████████████| 199/199 [00:34<00:00,  5.70it/s]\n",
      "Acc: 0.00, Acc10: 0.00, RR: 0.00:   1%|▏                                               | 1/199 [00:00<00:29,  6.71it/s]"
     ]
    },
    {
     "name": "stdout",
     "output_type": "stream",
     "text": [
      "BM25{'type': 'bm25', 'b': 0.75, 'k1': 2, 'k2': 1}\n",
      "  Accuracy: 0.25\n",
      "  Accuracy10: 0.53\n",
      "  RR: 0.34\n"
     ]
    },
    {
     "name": "stderr",
     "output_type": "stream",
     "text": [
      "Acc: 0.25, Acc10: 0.54, RR: 0.33: 100%|██████████████████████████████████████████████| 199/199 [00:34<00:00,  5.70it/s]\n",
      "Acc: 0.00, Acc10: 0.00, RR: 0.00:   1%|▏                                               | 1/199 [00:00<00:29,  6.71it/s]"
     ]
    },
    {
     "name": "stdout",
     "output_type": "stream",
     "text": [
      "BM25{'type': 'bm25', 'b': 0.75, 'k1': 2, 'k2': 2}\n",
      "  Accuracy: 0.25\n",
      "  Accuracy10: 0.54\n",
      "  RR: 0.33\n"
     ]
    },
    {
     "name": "stderr",
     "output_type": "stream",
     "text": [
      "Acc: 0.25, Acc10: 0.53, RR: 0.33: 100%|██████████████████████████████████████████████| 199/199 [00:34<00:00,  5.75it/s]\n",
      "Acc: 0.00, Acc10: 0.00, RR: 0.00:   1%|▏                                               | 1/199 [00:00<00:29,  6.71it/s]"
     ]
    },
    {
     "name": "stdout",
     "output_type": "stream",
     "text": [
      "BM25{'type': 'bm25', 'b': 0.75, 'k1': 2, 'k2': 3}\n",
      "  Accuracy: 0.25\n",
      "  Accuracy10: 0.53\n",
      "  RR: 0.33\n"
     ]
    },
    {
     "name": "stderr",
     "output_type": "stream",
     "text": [
      "Acc: 0.25, Acc10: 0.53, RR: 0.33: 100%|██████████████████████████████████████████████| 199/199 [00:34<00:00,  5.74it/s]\n",
      "Acc: 0.00, Acc10: 0.00, RR: 0.00:   1%|▏                                               | 1/199 [00:00<00:29,  6.67it/s]"
     ]
    },
    {
     "name": "stdout",
     "output_type": "stream",
     "text": [
      "BM25{'type': 'bm25', 'b': 0.75, 'k1': 2, 'k2': 4}\n",
      "  Accuracy: 0.25\n",
      "  Accuracy10: 0.53\n",
      "  RR: 0.33\n"
     ]
    },
    {
     "name": "stderr",
     "output_type": "stream",
     "text": [
      "Acc: 0.26, Acc10: 0.55, RR: 0.35: 100%|██████████████████████████████████████████████| 199/199 [00:34<00:00,  5.74it/s]\n",
      "Acc: 0.00, Acc10: 0.00, RR: 0.00:   1%|▏                                               | 1/199 [00:00<00:29,  6.80it/s]"
     ]
    },
    {
     "name": "stdout",
     "output_type": "stream",
     "text": [
      "BM25{'type': 'bm25', 'b': 0.75, 'k1': 3, 'k2': 1}\n",
      "  Accuracy: 0.26\n",
      "  Accuracy10: 0.55\n",
      "  RR: 0.35\n"
     ]
    },
    {
     "name": "stderr",
     "output_type": "stream",
     "text": [
      "Acc: 0.26, Acc10: 0.55, RR: 0.35: 100%|██████████████████████████████████████████████| 199/199 [00:34<00:00,  5.73it/s]\n",
      "Acc: 0.00, Acc10: 0.00, RR: 0.00:   1%|▏                                               | 1/199 [00:00<00:29,  6.67it/s]"
     ]
    },
    {
     "name": "stdout",
     "output_type": "stream",
     "text": [
      "BM25{'type': 'bm25', 'b': 0.75, 'k1': 3, 'k2': 2}\n",
      "  Accuracy: 0.26\n",
      "  Accuracy10: 0.55\n",
      "  RR: 0.35\n"
     ]
    },
    {
     "name": "stderr",
     "output_type": "stream",
     "text": [
      "Acc: 0.26, Acc10: 0.54, RR: 0.35: 100%|██████████████████████████████████████████████| 199/199 [00:34<00:00,  5.76it/s]\n",
      "Acc: 0.00, Acc10: 0.00, RR: 0.00:   1%|▏                                               | 1/199 [00:00<00:29,  6.76it/s]"
     ]
    },
    {
     "name": "stdout",
     "output_type": "stream",
     "text": [
      "BM25{'type': 'bm25', 'b': 0.75, 'k1': 3, 'k2': 3}\n",
      "  Accuracy: 0.26\n",
      "  Accuracy10: 0.54\n",
      "  RR: 0.35\n"
     ]
    },
    {
     "name": "stderr",
     "output_type": "stream",
     "text": [
      "Acc: 0.25, Acc10: 0.54, RR: 0.34: 100%|██████████████████████████████████████████████| 199/199 [00:34<00:00,  5.71it/s]\n",
      "Acc: 0.00, Acc10: 0.00, RR: 0.00:   1%|▏                                               | 1/199 [00:00<00:30,  6.53it/s]"
     ]
    },
    {
     "name": "stdout",
     "output_type": "stream",
     "text": [
      "BM25{'type': 'bm25', 'b': 0.75, 'k1': 3, 'k2': 4}\n",
      "  Accuracy: 0.25\n",
      "  Accuracy10: 0.54\n",
      "  RR: 0.34\n"
     ]
    },
    {
     "name": "stderr",
     "output_type": "stream",
     "text": [
      "Acc: 0.27, Acc10: 0.56, RR: 0.36: 100%|██████████████████████████████████████████████| 199/199 [00:35<00:00,  5.62it/s]\n",
      "Acc: 0.00, Acc10: 0.00, RR: 0.00:   1%|▏                                               | 1/199 [00:00<00:29,  6.62it/s]"
     ]
    },
    {
     "name": "stdout",
     "output_type": "stream",
     "text": [
      "BM25{'type': 'bm25', 'b': 0.75, 'k1': 4, 'k2': 1}\n",
      "  Accuracy: 0.27\n",
      "  Accuracy10: 0.56\n",
      "  RR: 0.36\n"
     ]
    },
    {
     "name": "stderr",
     "output_type": "stream",
     "text": [
      "Acc: 0.27, Acc10: 0.54, RR: 0.36: 100%|██████████████████████████████████████████████| 199/199 [00:35<00:00,  5.66it/s]\n",
      "Acc: 0.00, Acc10: 0.00, RR: 0.00:   1%|▏                                               | 1/199 [00:00<00:29,  6.71it/s]"
     ]
    },
    {
     "name": "stdout",
     "output_type": "stream",
     "text": [
      "BM25{'type': 'bm25', 'b': 0.75, 'k1': 4, 'k2': 2}\n",
      "  Accuracy: 0.27\n",
      "  Accuracy10: 0.54\n",
      "  RR: 0.36\n"
     ]
    },
    {
     "name": "stderr",
     "output_type": "stream",
     "text": [
      "Acc: 0.27, Acc10: 0.54, RR: 0.36: 100%|██████████████████████████████████████████████| 199/199 [00:34<00:00,  5.74it/s]\n",
      "Acc: 0.00, Acc10: 0.00, RR: 0.00:   1%|▏                                               | 1/199 [00:00<00:33,  5.86it/s]"
     ]
    },
    {
     "name": "stdout",
     "output_type": "stream",
     "text": [
      "BM25{'type': 'bm25', 'b': 0.75, 'k1': 4, 'k2': 3}\n",
      "  Accuracy: 0.27\n",
      "  Accuracy10: 0.54\n",
      "  RR: 0.36\n"
     ]
    },
    {
     "name": "stderr",
     "output_type": "stream",
     "text": [
      "Acc: 0.27, Acc10: 0.54, RR: 0.36: 100%|██████████████████████████████████████████████| 199/199 [00:34<00:00,  5.69it/s]\n",
      "Acc: 0.00, Acc10: 0.00, RR: 0.00:   1%|▏                                               | 1/199 [00:00<00:28,  6.94it/s]"
     ]
    },
    {
     "name": "stdout",
     "output_type": "stream",
     "text": [
      "BM25{'type': 'bm25', 'b': 0.75, 'k1': 4, 'k2': 4}\n",
      "  Accuracy: 0.27\n",
      "  Accuracy10: 0.54\n",
      "  RR: 0.36\n"
     ]
    },
    {
     "name": "stderr",
     "output_type": "stream",
     "text": [
      "Acc: 0.20, Acc10: 0.48, RR: 0.27: 100%|██████████████████████████████████████████████| 199/199 [00:34<00:00,  5.84it/s]\n",
      "Acc: 0.00, Acc10: 0.00, RR: 0.00:   1%|▏                                               | 1/199 [00:00<00:28,  6.90it/s]"
     ]
    },
    {
     "name": "stdout",
     "output_type": "stream",
     "text": [
      "BM25{'type': 'bm25', 'b': 0.875, 'k1': 1, 'k2': 1}\n",
      "  Accuracy: 0.20\n",
      "  Accuracy10: 0.48\n",
      "  RR: 0.27\n"
     ]
    },
    {
     "name": "stderr",
     "output_type": "stream",
     "text": [
      "Acc: 0.20, Acc10: 0.49, RR: 0.27: 100%|██████████████████████████████████████████████| 199/199 [00:34<00:00,  5.80it/s]\n",
      "Acc: 0.00, Acc10: 0.00, RR: 0.00:   1%|▏                                               | 1/199 [00:00<00:29,  6.76it/s]"
     ]
    },
    {
     "name": "stdout",
     "output_type": "stream",
     "text": [
      "BM25{'type': 'bm25', 'b': 0.875, 'k1': 1, 'k2': 2}\n",
      "  Accuracy: 0.20\n",
      "  Accuracy10: 0.49\n",
      "  RR: 0.27\n"
     ]
    },
    {
     "name": "stderr",
     "output_type": "stream",
     "text": [
      "Acc: 0.20, Acc10: 0.49, RR: 0.27: 100%|██████████████████████████████████████████████| 199/199 [00:34<00:00,  5.77it/s]\n",
      "Acc: 0.00, Acc10: 0.00, RR: 0.00:   1%|▏                                               | 1/199 [00:00<00:34,  5.81it/s]"
     ]
    },
    {
     "name": "stdout",
     "output_type": "stream",
     "text": [
      "BM25{'type': 'bm25', 'b': 0.875, 'k1': 1, 'k2': 3}\n",
      "  Accuracy: 0.20\n",
      "  Accuracy10: 0.49\n",
      "  RR: 0.27\n"
     ]
    },
    {
     "name": "stderr",
     "output_type": "stream",
     "text": [
      "Acc: 0.20, Acc10: 0.49, RR: 0.27: 100%|██████████████████████████████████████████████| 199/199 [00:34<00:00,  5.79it/s]\n",
      "Acc: 0.00, Acc10: 0.00, RR: 0.00:   1%|▏                                               | 1/199 [00:00<00:29,  6.62it/s]"
     ]
    },
    {
     "name": "stdout",
     "output_type": "stream",
     "text": [
      "BM25{'type': 'bm25', 'b': 0.875, 'k1': 1, 'k2': 4}\n",
      "  Accuracy: 0.20\n",
      "  Accuracy10: 0.49\n",
      "  RR: 0.27\n"
     ]
    },
    {
     "name": "stderr",
     "output_type": "stream",
     "text": [
      "Acc: 0.21, Acc10: 0.52, RR: 0.31: 100%|██████████████████████████████████████████████| 199/199 [00:34<00:00,  5.75it/s]\n",
      "Acc: 0.00, Acc10: 0.00, RR: 0.00:   1%|▏                                               | 1/199 [00:00<00:32,  6.17it/s]"
     ]
    },
    {
     "name": "stdout",
     "output_type": "stream",
     "text": [
      "BM25{'type': 'bm25', 'b': 0.875, 'k1': 2, 'k2': 1}\n",
      "  Accuracy: 0.21\n",
      "  Accuracy10: 0.52\n",
      "  RR: 0.31\n"
     ]
    },
    {
     "name": "stderr",
     "output_type": "stream",
     "text": [
      "Acc: 0.21, Acc10: 0.52, RR: 0.31: 100%|██████████████████████████████████████████████| 199/199 [00:34<00:00,  5.72it/s]\n",
      "Acc: 0.00, Acc10: 0.00, RR: 0.00:   1%|▏                                               | 1/199 [00:00<00:28,  6.85it/s]"
     ]
    },
    {
     "name": "stdout",
     "output_type": "stream",
     "text": [
      "BM25{'type': 'bm25', 'b': 0.875, 'k1': 2, 'k2': 2}\n",
      "  Accuracy: 0.21\n",
      "  Accuracy10: 0.52\n",
      "  RR: 0.31\n"
     ]
    },
    {
     "name": "stderr",
     "output_type": "stream",
     "text": [
      "Acc: 0.21, Acc10: 0.53, RR: 0.31: 100%|██████████████████████████████████████████████| 199/199 [00:35<00:00,  5.68it/s]\n",
      "Acc: 0.00, Acc10: 0.00, RR: 0.00:   1%|▏                                               | 1/199 [00:00<00:28,  6.85it/s]"
     ]
    },
    {
     "name": "stdout",
     "output_type": "stream",
     "text": [
      "BM25{'type': 'bm25', 'b': 0.875, 'k1': 2, 'k2': 3}\n",
      "  Accuracy: 0.21\n",
      "  Accuracy10: 0.53\n",
      "  RR: 0.31\n"
     ]
    },
    {
     "name": "stderr",
     "output_type": "stream",
     "text": [
      "Acc: 0.21, Acc10: 0.53, RR: 0.31: 100%|██████████████████████████████████████████████| 199/199 [00:34<00:00,  5.69it/s]\n",
      "Acc: 0.00, Acc10: 0.00, RR: 0.00:   1%|▏                                               | 1/199 [00:00<00:29,  6.71it/s]"
     ]
    },
    {
     "name": "stdout",
     "output_type": "stream",
     "text": [
      "BM25{'type': 'bm25', 'b': 0.875, 'k1': 2, 'k2': 4}\n",
      "  Accuracy: 0.21\n",
      "  Accuracy10: 0.53\n",
      "  RR: 0.31\n"
     ]
    },
    {
     "name": "stderr",
     "output_type": "stream",
     "text": [
      "Acc: 0.23, Acc10: 0.53, RR: 0.32: 100%|██████████████████████████████████████████████| 199/199 [00:34<00:00,  5.80it/s]\n",
      "Acc: 0.00, Acc10: 0.00, RR: 0.00:   1%|▏                                               | 1/199 [00:00<00:28,  6.85it/s]"
     ]
    },
    {
     "name": "stdout",
     "output_type": "stream",
     "text": [
      "BM25{'type': 'bm25', 'b': 0.875, 'k1': 3, 'k2': 1}\n",
      "  Accuracy: 0.23\n",
      "  Accuracy10: 0.53\n",
      "  RR: 0.32\n"
     ]
    },
    {
     "name": "stderr",
     "output_type": "stream",
     "text": [
      "Acc: 0.23, Acc10: 0.53, RR: 0.32: 100%|██████████████████████████████████████████████| 199/199 [00:34<00:00,  5.72it/s]\n",
      "Acc: 0.00, Acc10: 0.00, RR: 0.00:   1%|▏                                               | 1/199 [00:00<00:30,  6.41it/s]"
     ]
    },
    {
     "name": "stdout",
     "output_type": "stream",
     "text": [
      "BM25{'type': 'bm25', 'b': 0.875, 'k1': 3, 'k2': 2}\n",
      "  Accuracy: 0.23\n",
      "  Accuracy10: 0.53\n",
      "  RR: 0.32\n"
     ]
    },
    {
     "name": "stderr",
     "output_type": "stream",
     "text": [
      "Acc: 0.23, Acc10: 0.52, RR: 0.32: 100%|██████████████████████████████████████████████| 199/199 [00:34<00:00,  5.71it/s]\n",
      "Acc: 0.00, Acc10: 0.00, RR: 0.00:   1%|▏                                               | 1/199 [00:00<00:29,  6.80it/s]"
     ]
    },
    {
     "name": "stdout",
     "output_type": "stream",
     "text": [
      "BM25{'type': 'bm25', 'b': 0.875, 'k1': 3, 'k2': 3}\n",
      "  Accuracy: 0.23\n",
      "  Accuracy10: 0.52\n",
      "  RR: 0.32\n"
     ]
    },
    {
     "name": "stderr",
     "output_type": "stream",
     "text": [
      "Acc: 0.23, Acc10: 0.52, RR: 0.32: 100%|██████████████████████████████████████████████| 199/199 [00:36<00:00,  5.52it/s]\n",
      "Acc: 0.00, Acc10: 0.00, RR: 0.00:   1%|▏                                               | 1/199 [00:00<00:29,  6.76it/s]"
     ]
    },
    {
     "name": "stdout",
     "output_type": "stream",
     "text": [
      "BM25{'type': 'bm25', 'b': 0.875, 'k1': 3, 'k2': 4}\n",
      "  Accuracy: 0.23\n",
      "  Accuracy10: 0.52\n",
      "  RR: 0.32\n"
     ]
    },
    {
     "name": "stderr",
     "output_type": "stream",
     "text": [
      "Acc: 0.25, Acc10: 0.54, RR: 0.34: 100%|██████████████████████████████████████████████| 199/199 [00:35<00:00,  5.66it/s]\n",
      "Acc: 0.00, Acc10: 0.00, RR: 0.00:   1%|▏                                               | 1/199 [00:00<00:29,  6.62it/s]"
     ]
    },
    {
     "name": "stdout",
     "output_type": "stream",
     "text": [
      "BM25{'type': 'bm25', 'b': 0.875, 'k1': 4, 'k2': 1}\n",
      "  Accuracy: 0.25\n",
      "  Accuracy10: 0.54\n",
      "  RR: 0.34\n"
     ]
    },
    {
     "name": "stderr",
     "output_type": "stream",
     "text": [
      "Acc: 0.25, Acc10: 0.54, RR: 0.34: 100%|██████████████████████████████████████████████| 199/199 [00:35<00:00,  5.68it/s]\n",
      "Acc: 0.00, Acc10: 0.00, RR: 0.00:   1%|▏                                               | 1/199 [00:00<00:29,  6.76it/s]"
     ]
    },
    {
     "name": "stdout",
     "output_type": "stream",
     "text": [
      "BM25{'type': 'bm25', 'b': 0.875, 'k1': 4, 'k2': 2}\n",
      "  Accuracy: 0.25\n",
      "  Accuracy10: 0.54\n",
      "  RR: 0.34\n"
     ]
    },
    {
     "name": "stderr",
     "output_type": "stream",
     "text": [
      "Acc: 0.25, Acc10: 0.54, RR: 0.34: 100%|██████████████████████████████████████████████| 199/199 [00:34<00:00,  5.70it/s]\n",
      "Acc: 0.00, Acc10: 0.00, RR: 0.00:   1%|▏                                               | 1/199 [00:00<00:29,  6.67it/s]"
     ]
    },
    {
     "name": "stdout",
     "output_type": "stream",
     "text": [
      "BM25{'type': 'bm25', 'b': 0.875, 'k1': 4, 'k2': 3}\n",
      "  Accuracy: 0.25\n",
      "  Accuracy10: 0.54\n",
      "  RR: 0.34\n"
     ]
    },
    {
     "name": "stderr",
     "output_type": "stream",
     "text": [
      "Acc: 0.25, Acc10: 0.53, RR: 0.34: 100%|██████████████████████████████████████████████| 199/199 [00:35<00:00,  5.63it/s]\n",
      "Acc: 0.00, Acc10: 0.00, RR: 0.00:   1%|▏                                               | 1/199 [00:00<00:29,  6.80it/s]"
     ]
    },
    {
     "name": "stdout",
     "output_type": "stream",
     "text": [
      "BM25{'type': 'bm25', 'b': 0.875, 'k1': 4, 'k2': 4}\n",
      "  Accuracy: 0.25\n",
      "  Accuracy10: 0.53\n",
      "  RR: 0.34\n"
     ]
    },
    {
     "name": "stderr",
     "output_type": "stream",
     "text": [
      "Acc: 0.18, Acc10: 0.48, RR: 0.26: 100%|██████████████████████████████████████████████| 199/199 [00:34<00:00,  5.76it/s]\n",
      "Acc: 0.00, Acc10: 0.00, RR: 0.00:   1%|▏                                               | 1/199 [00:00<00:32,  6.02it/s]"
     ]
    },
    {
     "name": "stdout",
     "output_type": "stream",
     "text": [
      "BM25{'type': 'bm25', 'b': 1.0, 'k1': 1, 'k2': 1}\n",
      "  Accuracy: 0.18\n",
      "  Accuracy10: 0.48\n",
      "  RR: 0.26\n"
     ]
    },
    {
     "name": "stderr",
     "output_type": "stream",
     "text": [
      "Acc: 0.18, Acc10: 0.48, RR: 0.26: 100%|██████████████████████████████████████████████| 199/199 [00:34<00:00,  5.79it/s]\n",
      "Acc: 0.00, Acc10: 0.00, RR: 0.00:   1%|▏                                               | 1/199 [00:00<00:28,  6.89it/s]"
     ]
    },
    {
     "name": "stdout",
     "output_type": "stream",
     "text": [
      "BM25{'type': 'bm25', 'b': 1.0, 'k1': 1, 'k2': 2}\n",
      "  Accuracy: 0.18\n",
      "  Accuracy10: 0.48\n",
      "  RR: 0.26\n"
     ]
    },
    {
     "name": "stderr",
     "output_type": "stream",
     "text": [
      "Acc: 0.18, Acc10: 0.48, RR: 0.26: 100%|██████████████████████████████████████████████| 199/199 [00:35<00:00,  5.68it/s]\n",
      "Acc: 0.00, Acc10: 0.00, RR: 0.00:   1%|▏                                               | 1/199 [00:00<00:29,  6.80it/s]"
     ]
    },
    {
     "name": "stdout",
     "output_type": "stream",
     "text": [
      "BM25{'type': 'bm25', 'b': 1.0, 'k1': 1, 'k2': 3}\n",
      "  Accuracy: 0.18\n",
      "  Accuracy10: 0.48\n",
      "  RR: 0.26\n"
     ]
    },
    {
     "name": "stderr",
     "output_type": "stream",
     "text": [
      "Acc: 0.18, Acc10: 0.48, RR: 0.26: 100%|██████████████████████████████████████████████| 199/199 [00:35<00:00,  5.60it/s]\n",
      "Acc: 0.00, Acc10: 0.00, RR: 0.00:   1%|▏                                               | 1/199 [00:00<00:28,  6.85it/s]"
     ]
    },
    {
     "name": "stdout",
     "output_type": "stream",
     "text": [
      "BM25{'type': 'bm25', 'b': 1.0, 'k1': 1, 'k2': 4}\n",
      "  Accuracy: 0.18\n",
      "  Accuracy10: 0.48\n",
      "  RR: 0.26\n"
     ]
    },
    {
     "name": "stderr",
     "output_type": "stream",
     "text": [
      "Acc: 0.20, Acc10: 0.49, RR: 0.28: 100%|██████████████████████████████████████████████| 199/199 [00:34<00:00,  5.76it/s]\n",
      "Acc: 0.00, Acc10: 0.00, RR: 0.00:   1%|▏                                               | 1/199 [00:00<00:29,  6.76it/s]"
     ]
    },
    {
     "name": "stdout",
     "output_type": "stream",
     "text": [
      "BM25{'type': 'bm25', 'b': 1.0, 'k1': 2, 'k2': 1}\n",
      "  Accuracy: 0.20\n",
      "  Accuracy10: 0.49\n",
      "  RR: 0.28\n"
     ]
    },
    {
     "name": "stderr",
     "output_type": "stream",
     "text": [
      "Acc: 0.20, Acc10: 0.49, RR: 0.28: 100%|██████████████████████████████████████████████| 199/199 [00:34<00:00,  5.73it/s]\n",
      "Acc: 0.00, Acc10: 0.00, RR: 0.00:   1%|▏                                               | 1/199 [00:00<00:29,  6.71it/s]"
     ]
    },
    {
     "name": "stdout",
     "output_type": "stream",
     "text": [
      "BM25{'type': 'bm25', 'b': 1.0, 'k1': 2, 'k2': 2}\n",
      "  Accuracy: 0.20\n",
      "  Accuracy10: 0.49\n",
      "  RR: 0.28\n"
     ]
    },
    {
     "name": "stderr",
     "output_type": "stream",
     "text": [
      "Acc: 0.20, Acc10: 0.49, RR: 0.28: 100%|██████████████████████████████████████████████| 199/199 [00:34<00:00,  5.72it/s]\n",
      "Acc: 0.00, Acc10: 0.00, RR: 0.00:   1%|▏                                               | 1/199 [00:00<00:29,  6.67it/s]"
     ]
    },
    {
     "name": "stdout",
     "output_type": "stream",
     "text": [
      "BM25{'type': 'bm25', 'b': 1.0, 'k1': 2, 'k2': 3}\n",
      "  Accuracy: 0.20\n",
      "  Accuracy10: 0.49\n",
      "  RR: 0.28\n"
     ]
    },
    {
     "name": "stderr",
     "output_type": "stream",
     "text": [
      "Acc: 0.20, Acc10: 0.49, RR: 0.28: 100%|██████████████████████████████████████████████| 199/199 [00:35<00:00,  5.62it/s]\n",
      "Acc: 0.00, Acc10: 0.00, RR: 0.00:   1%|▏                                               | 1/199 [00:00<00:29,  6.76it/s]"
     ]
    },
    {
     "name": "stdout",
     "output_type": "stream",
     "text": [
      "BM25{'type': 'bm25', 'b': 1.0, 'k1': 2, 'k2': 4}\n",
      "  Accuracy: 0.20\n",
      "  Accuracy10: 0.49\n",
      "  RR: 0.28\n"
     ]
    },
    {
     "name": "stderr",
     "output_type": "stream",
     "text": [
      "Acc: 0.22, Acc10: 0.49, RR: 0.29: 100%|██████████████████████████████████████████████| 199/199 [00:34<00:00,  5.81it/s]\n",
      "Acc: 0.00, Acc10: 0.00, RR: 0.00:   1%|▏                                               | 1/199 [00:00<00:28,  6.85it/s]"
     ]
    },
    {
     "name": "stdout",
     "output_type": "stream",
     "text": [
      "BM25{'type': 'bm25', 'b': 1.0, 'k1': 3, 'k2': 1}\n",
      "  Accuracy: 0.22\n",
      "  Accuracy10: 0.49\n",
      "  RR: 0.29\n"
     ]
    },
    {
     "name": "stderr",
     "output_type": "stream",
     "text": [
      "Acc: 0.22, Acc10: 0.49, RR: 0.29: 100%|██████████████████████████████████████████████| 199/199 [00:34<00:00,  5.82it/s]\n",
      "Acc: 0.00, Acc10: 0.00, RR: 0.00:   1%|▏                                               | 1/199 [00:00<00:28,  6.85it/s]"
     ]
    },
    {
     "name": "stdout",
     "output_type": "stream",
     "text": [
      "BM25{'type': 'bm25', 'b': 1.0, 'k1': 3, 'k2': 2}\n",
      "  Accuracy: 0.22\n",
      "  Accuracy10: 0.49\n",
      "  RR: 0.29\n"
     ]
    },
    {
     "name": "stderr",
     "output_type": "stream",
     "text": [
      "Acc: 0.22, Acc10: 0.49, RR: 0.29: 100%|██████████████████████████████████████████████| 199/199 [00:34<00:00,  5.82it/s]\n",
      "Acc: 0.00, Acc10: 0.00, RR: 0.00:   1%|▏                                               | 1/199 [00:00<00:28,  6.89it/s]"
     ]
    },
    {
     "name": "stdout",
     "output_type": "stream",
     "text": [
      "BM25{'type': 'bm25', 'b': 1.0, 'k1': 3, 'k2': 3}\n",
      "  Accuracy: 0.22\n",
      "  Accuracy10: 0.49\n",
      "  RR: 0.29\n"
     ]
    },
    {
     "name": "stderr",
     "output_type": "stream",
     "text": [
      "Acc: 0.22, Acc10: 0.49, RR: 0.29: 100%|██████████████████████████████████████████████| 199/199 [00:34<00:00,  5.80it/s]\n",
      "Acc: 0.00, Acc10: 0.00, RR: 0.00:   1%|▏                                               | 1/199 [00:00<00:29,  6.67it/s]"
     ]
    },
    {
     "name": "stdout",
     "output_type": "stream",
     "text": [
      "BM25{'type': 'bm25', 'b': 1.0, 'k1': 3, 'k2': 4}\n",
      "  Accuracy: 0.22\n",
      "  Accuracy10: 0.49\n",
      "  RR: 0.29\n"
     ]
    },
    {
     "name": "stderr",
     "output_type": "stream",
     "text": [
      "Acc: 0.23, Acc10: 0.49, RR: 0.31: 100%|██████████████████████████████████████████████| 199/199 [00:34<00:00,  5.72it/s]\n",
      "Acc: 0.00, Acc10: 0.00, RR: 0.00:   1%|▏                                               | 1/199 [00:00<00:30,  6.49it/s]"
     ]
    },
    {
     "name": "stdout",
     "output_type": "stream",
     "text": [
      "BM25{'type': 'bm25', 'b': 1.0, 'k1': 4, 'k2': 1}\n",
      "  Accuracy: 0.23\n",
      "  Accuracy10: 0.49\n",
      "  RR: 0.31\n"
     ]
    },
    {
     "name": "stderr",
     "output_type": "stream",
     "text": [
      "Acc: 0.23, Acc10: 0.49, RR: 0.31: 100%|██████████████████████████████████████████████| 199/199 [00:35<00:00,  5.68it/s]\n",
      "Acc: 0.00, Acc10: 0.00, RR: 0.00:   1%|▏                                               | 1/199 [00:00<00:29,  6.76it/s]"
     ]
    },
    {
     "name": "stdout",
     "output_type": "stream",
     "text": [
      "BM25{'type': 'bm25', 'b': 1.0, 'k1': 4, 'k2': 2}\n",
      "  Accuracy: 0.23\n",
      "  Accuracy10: 0.49\n",
      "  RR: 0.31\n"
     ]
    },
    {
     "name": "stderr",
     "output_type": "stream",
     "text": [
      "Acc: 0.23, Acc10: 0.49, RR: 0.31: 100%|██████████████████████████████████████████████| 199/199 [00:34<00:00,  5.72it/s]\n",
      "Acc: 0.00, Acc10: 0.00, RR: 0.00:   1%|▏                                               | 1/199 [00:00<00:29,  6.67it/s]"
     ]
    },
    {
     "name": "stdout",
     "output_type": "stream",
     "text": [
      "BM25{'type': 'bm25', 'b': 1.0, 'k1': 4, 'k2': 3}\n",
      "  Accuracy: 0.23\n",
      "  Accuracy10: 0.49\n",
      "  RR: 0.31\n"
     ]
    },
    {
     "name": "stderr",
     "output_type": "stream",
     "text": [
      "Acc: 0.23, Acc10: 0.49, RR: 0.31: 100%|██████████████████████████████████████████████| 199/199 [00:34<00:00,  5.72it/s]"
     ]
    },
    {
     "name": "stdout",
     "output_type": "stream",
     "text": [
      "BM25{'type': 'bm25', 'b': 1.0, 'k1': 4, 'k2': 4}\n",
      "  Accuracy: 0.23\n",
      "  Accuracy10: 0.49\n",
      "  RR: 0.31\n"
     ]
    },
    {
     "name": "stderr",
     "output_type": "stream",
     "text": [
      "\n"
     ]
    }
   ],
   "source": [
    "import numpy as np\n",
    "\n",
    "for b in np.linspace(0, 1, 9):\n",
    "    for k1 in range(1, 5):\n",
    "        for k2 in range(1, 5):\n",
    "            ranking_params = { \"type\": \"bm25\", \"b\": b, \"k1\": k1, \"k2\": k2}\n",
    "            run(\"BM25\" + str(ranking_params), queries, documents_terms, ranking_params)"
   ]
  },
  {
   "cell_type": "markdown",
   "metadata": {},
   "source": [
    "BM25{'type': 'bm25', 'b': 0.625, 'k1': 4, 'k2': 1}\n",
    "  Accuracy: 0.28\n",
    "  Accuracy10: 0.57\n",
    "  RR: 0.36"
   ]
  },
  {
   "cell_type": "code",
   "execution_count": null,
   "metadata": {},
   "outputs": [],
   "source": []
  }
 ],
 "metadata": {
  "kernelspec": {
   "display_name": "Python 3",
   "language": "python",
   "name": "python3"
  },
  "language_info": {
   "codemirror_mode": {
    "name": "ipython",
    "version": 3
   },
   "file_extension": ".py",
   "mimetype": "text/x-python",
   "name": "python",
   "nbconvert_exporter": "python",
   "pygments_lexer": "ipython3",
   "version": "3.7.5"
  }
 },
 "nbformat": 4,
 "nbformat_minor": 4
}
